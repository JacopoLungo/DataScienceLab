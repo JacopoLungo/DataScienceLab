{
 "cells": [
  {
   "cell_type": "code",
   "execution_count": 1,
   "metadata": {},
   "outputs": [],
   "source": [
    "import csv\n",
    "\n",
    "f = open(\"iris.csv\")"
   ]
  },
  {
   "cell_type": "markdown",
   "metadata": {},
   "source": [
    "f is “_io.TextIOWrapper” which is a file object that is returned by the open() method.\n",
    "\n",
    "You have to use csv.reader(f) to read that object"
   ]
  },
  {
   "cell_type": "code",
   "execution_count": 2,
   "metadata": {},
   "outputs": [],
   "source": [
    "csvreader = csv.reader(f)\n"
   ]
  },
  {
   "cell_type": "markdown",
   "metadata": {},
   "source": [
    "1 - Load the previously downloaded Iris dataset as a list of lists"
   ]
  },
  {
   "cell_type": "code",
   "execution_count": 3,
   "metadata": {},
   "outputs": [],
   "source": [
    "rows = [] # i created an empty list\n",
    "\n",
    "for row in csvreader:    #create a list of lists\n",
    "    rows.append(row)\n",
    " \n",
    "\n",
    "rows.pop(-1)    #remove the last element of the list because it is empty\n",
    "\n",
    "\n",
    "for riga in rows:    #converting str in int\n",
    "    for i in range(4):\n",
    "        riga[i] = float(riga[i])\n"
   ]
  },
  {
   "cell_type": "markdown",
   "metadata": {},
   "source": [
    "2 - Compute and print the mean and the standard deviation for each of the 4 measurement columns"
   ]
  },
  {
   "cell_type": "code",
   "execution_count": 4,
   "metadata": {},
   "outputs": [
    {
     "name": "stdout",
     "output_type": "stream",
     "text": [
      "mean sepal length = 5.8433\n",
      "mean sepal width = 3.0540\n",
      "mean petal length = 3.7587\n",
      "mean petal width = 1.1987\n",
      "\n",
      "std dev sepal length = 0.8253\n",
      "std dev sepal width = 0.4321\n",
      "std dev petal length = 1.7585\n",
      "std dev petal width = 0.7606\n"
     ]
    }
   ],
   "source": [
    "measurements = [ \"sepal length\", \"sepal width\", \"petal length\", \"petal width\" ]\n",
    "somme = [0, 0, 0, 0]\n",
    "campioni = len(rows)\n",
    "medie = []\n",
    "\n",
    "for riga in rows:  # calcolo della media\n",
    "    for i in range(4):\n",
    "        somme[i] += riga[i]\n",
    "\n",
    "for somma in somme:\n",
    "    medie.append(somma/campioni)\n",
    "\n",
    "for media, m in zip(medie, measurements):\n",
    "    print (f\"mean {m} = {media:.4f}\")\n",
    "\n",
    "print()\n",
    "    \n",
    "NoRootNoFrac = [0, 0, 0, 0]\n",
    "sigma = []\n",
    "\n",
    "for riga in rows:  # calcolo della dev standard\n",
    "    for i in range(4):\n",
    "        NoRootNoFrac[i] += (riga[i] - medie[i])**2\n",
    "\n",
    "for i, m in zip(range(4),measurements):\n",
    "    sigma.append((NoRootNoFrac[i]/campioni)**0.5)\n",
    "    print(f\"std dev {m} = {sigma[i]:.4f}\")\n",
    "\n",
    "    "
   ]
  },
  {
   "cell_type": "markdown",
   "metadata": {},
   "source": [
    "3 -Compute and print the mean and the standard deviation for each of the 4 measurement columns,\n",
    "separately for each of the three Iris species (versicolor, virginica and setosa)."
   ]
  },
  {
   "cell_type": "code",
   "execution_count": 5,
   "metadata": {},
   "outputs": [],
   "source": [
    "def mean(x):\n",
    "    return sum(x) / len(x)\n",
    "\n",
    "def std(x):\n",
    "    u = mean(x)\n",
    "    return (mean([ (x_i - u) ** 2 for x_i in x ])) ** 0.5"
   ]
  },
  {
   "cell_type": "code",
   "execution_count": 6,
   "metadata": {},
   "outputs": [
    {
     "name": "stdout",
     "output_type": "stream",
     "text": [
      "sepal length\n",
      "Iris-virginica mean 6.5880, std 0.6295\n",
      "Iris-setosa mean 5.0060, std 0.3489\n",
      "Iris-versicolor mean 5.9360, std 0.5110\n",
      "\n",
      "sepal width\n",
      "Iris-virginica mean 2.9740, std 0.3193\n",
      "Iris-setosa mean 3.4180, std 0.3772\n",
      "Iris-versicolor mean 2.7700, std 0.3106\n",
      "\n",
      "petal length\n",
      "Iris-virginica mean 5.5520, std 0.5463\n",
      "Iris-setosa mean 1.4640, std 0.1718\n",
      "Iris-versicolor mean 4.2600, std 0.4652\n",
      "\n",
      "petal width\n",
      "Iris-virginica mean 2.0260, std 0.2719\n",
      "Iris-setosa mean 0.2440, std 0.1061\n",
      "Iris-versicolor mean 1.3260, std 0.1958\n",
      "\n"
     ]
    }
   ],
   "source": [
    "dataset = [[], [], [], [], []]\n",
    "measurements = [ \"sepal length\", \"sepal width\", \"petal length\", \"petal width\" ]\n",
    "\n",
    "for riga in rows:    #adesso ho una lista con 5 liste con 150 elementi ciascuna\n",
    "    for i in range(5):\n",
    "        dataset[i].append(riga[i])\n",
    "\n",
    "iris_types = set(dataset[4])\n",
    "\n",
    "for i, m in enumerate(measurements): #uso le funzioni definite prima e uso\n",
    "    print (m)                        # anche zip e List comprehensions\n",
    "    for iris_type in iris_types:\n",
    "        values = [ v for v,t in zip(dataset[i], dataset[4]) if t == iris_type ]\n",
    "        print(f\"{iris_type} mean {mean(values):.4f}, std {std(values):.4f}\")\n",
    "    print()\n",
    "        "
   ]
  }
 ],
 "metadata": {
  "kernelspec": {
   "display_name": "Python 3",
   "language": "python",
   "name": "python3"
  },
  "language_info": {
   "codemirror_mode": {
    "name": "ipython",
    "version": 3
   },
   "file_extension": ".py",
   "mimetype": "text/x-python",
   "name": "python",
   "nbconvert_exporter": "python",
   "pygments_lexer": "ipython3",
   "version": "3.8.5"
  }
 },
 "nbformat": 4,
 "nbformat_minor": 4
}
