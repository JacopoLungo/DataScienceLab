{
 "cells": [
  {
   "cell_type": "markdown",
   "metadata": {},
   "source": [
    "# Tuple\n",
    "* unpacking\n"
   ]
  },
  {
   "cell_type": "code",
   "execution_count": 2,
   "metadata": {},
   "outputs": [],
   "source": [
    "tupla1 = ('Torino', 'Roma')\n",
    "tupla2 = \"To\",\"Rm\""
   ]
  },
  {
   "cell_type": "markdown",
   "metadata": {},
   "source": [
    "## Unpacking"
   ]
  },
  {
   "cell_type": "code",
   "execution_count": 4,
   "metadata": {},
   "outputs": [
    {
     "name": "stdout",
     "output_type": "stream",
     "text": [
      "To\n",
      "Rm\n"
     ]
    }
   ],
   "source": [
    "city1, city2 = tupla2\n",
    "print(city1)\n",
    "print(city2)\n"
   ]
  },
  {
   "cell_type": "markdown",
   "metadata": {},
   "source": [
    "### Sets\n",
    "Non ordinati, si possono fare le stesse operazioni dei set matematici, rimouvere un elemento specifico, vedere se un set è un sottoinsieme di altri o un sovrainsieme.\n",
    "Si può iterare tra i set ma non c'è un ordine stabilito.\n",
    "*Si possono usare i sets per rimovere i duplicati*\n",
    "Converti una lista a set e poi il set in lista, l'ordine non viene preservato."
   ]
  },
  {
   "cell_type": "markdown",
   "metadata": {},
   "source": [
    "### Dictionary\n",
    "Sono delle mappe, sono strutture del tipo chiave-valore. Non puoi duplicare le chiavi, ogni chiave deve essere univoca.\n",
    "le chiavi devono essere hashable: deve essere possibile estrarre un numero univoco dalla chiave dopo che passa da una specifica funzione.\n",
    "Puoi capire l'hash di un oggetto con la funzione hash().\n",
    "Vanno bene come chiavi\n",
    "Le liste non possono essere usate come chiavi, non sono hashable\n",
    "."
   ]
  },
  {
   "cell_type": "code",
   "execution_count": 8,
   "metadata": {},
   "outputs": [
    {
     "data": {
      "text/plain": [
       "1522320675264"
      ]
     },
     "execution_count": 8,
     "metadata": {},
     "output_type": "execute_result"
    }
   ],
   "source": [
    "a = [14, 35]\n",
    "id(a)"
   ]
  },
  {
   "cell_type": "code",
   "execution_count": 9,
   "metadata": {},
   "outputs": [
    {
     "data": {
      "text/plain": [
       "1522288783744"
      ]
     },
     "execution_count": 9,
     "metadata": {},
     "output_type": "execute_result"
    }
   ],
   "source": [
    "b=a.copy()\n",
    "id(b)"
   ]
  },
  {
   "cell_type": "code",
   "execution_count": null,
   "metadata": {},
   "outputs": [],
   "source": []
  }
 ],
 "metadata": {
  "kernelspec": {
   "display_name": "Python 3.9.13 ('ipynbDsLab')",
   "language": "python",
   "name": "python3"
  },
  "language_info": {
   "codemirror_mode": {
    "name": "ipython",
    "version": 3
   },
   "file_extension": ".py",
   "mimetype": "text/x-python",
   "name": "python",
   "nbconvert_exporter": "python",
   "pygments_lexer": "ipython3",
   "version": "3.9.13"
  },
  "orig_nbformat": 4,
  "vscode": {
   "interpreter": {
    "hash": "37590d69b746ea263909c58584a4dcf7a7a571d7708e51948f843b07050336f7"
   }
  }
 },
 "nbformat": 4,
 "nbformat_minor": 2
}
