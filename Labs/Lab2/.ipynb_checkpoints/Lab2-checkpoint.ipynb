{
 "cells": [
  {
   "cell_type": "markdown",
   "id": "2090fcb3",
   "metadata": {},
   "source": [
    "# LAB #2\n",
    "The purpose of this laboratory is to make you practice with the data preparation process. More specifically,you will tackle the task with tabular and textual input data, learning how to handle anomalies in the data,missing values and more."
   ]
  },
  {
   "cell_type": "markdown",
   "id": "b7da3a2a",
   "metadata": {},
   "source": [
    "**Matplotlib availability**"
   ]
  },
  {
   "cell_type": "code",
   "execution_count": 16,
   "id": "672074af",
   "metadata": {},
   "outputs": [
    {
     "data": {
      "image/png": "[encoded data removed]",
      "text/plain": [
       "<Figure size 640x480 with 1 Axes>"
      ]
     },
     "metadata": {},
     "output_type": "display_data"
    }
   ],
   "source": [
    "from random import gauss\n",
    "import matplotlib.pyplot as plt\n",
    "l = [gauss(0, 1) for _ in range(500)]\n",
    "plt.hist(l)\n",
    "plt.title('Gaussian distribution (mu=0, sigma=1)')\n",
    "plt.show()"
   ]
  },
  {
   "cell_type": "markdown",
   "id": "13c1defb",
   "metadata": {},
   "source": [
    "## Global Land Temperature\n",
    "This didactic version contains the formatted output files of the major cities of the globe with monthly granularity, between the years 1817 and 2012.\n",
    "\n",
    "The dataset is composed of ∼200k rows corresponding to the measurements taken the first day of the month in a given city.\n",
    "Each measurement is then described by 7 values:\n",
    "- Date, when the measurement was taken\n",
    "- AverageTemperature\n",
    "- AverageTemperatureUncertainty\n",
    "- City, from which the measurement was taken\n",
    "- Country\n",
    "- Latitude\n",
    "- Longitude"
   ]
  },
  {
   "cell_type": "code",
   "execution_count": 33,
   "id": "08101d34",
   "metadata": {},
   "outputs": [
    {
     "name": "stdout",
     "output_type": "stream",
     "text": [
      "['Date', 'AverageTemperature', 'AverageTemperatureUncertainty', 'City', 'Country', 'Latitude', 'Longitude']\n",
      "['1849-01-01', 26.704, 1.435, 'Abidjan', \"CÃ´te D'Ivoire\", '5.63N', '3.23W']\n"
     ]
    }
   ],
   "source": [
    "#Import the csv\n",
    "import csv\n",
    "\n",
    "tempDs = [] #will be a list of lists\n",
    "\n",
    "with open (\"GLT_filtered.csv\") as f:\n",
    "    reader = csv.reader(f)\n",
    "    tempDs=list(reader)\n",
    "\n",
    "headers=tempDs[0]\n",
    "tempDs=tempDs[1:]\n",
    "for sample in tempDs:\n",
    "    if sample[1]!= '':\n",
    "        sample[1]=float(sample[1])\n",
    "    else:\n",
    "        sample[1]=None\n",
    "    \n",
    "    if sample[2]!= '':\n",
    "        sample[2]=float(sample[2])\n",
    "    else:\n",
    "        sample[2]=None   \n",
    "print(headers)\n",
    "print(tempDs[0])\n"
   ]
  },
  {
   "cell_type": "markdown",
   "id": "3655b21e",
   "metadata": {},
   "source": [
    "**Which feature types are there?**\n",
    "- Nominal: City, Country\n",
    "- Continous: AvergaeTemperature, AvergaeTemperatureUncertainty, Latitude, Longitude\n",
    "- Discrete: Date???"
   ]
  },
  {
   "cell_type": "code",
   "execution_count": 50,
   "id": "df119290",
   "metadata": {},
   "outputs": [
    {
     "data": {
      "text/plain": [
       "0"
      ]
     },
     "execution_count": 50,
     "metadata": {},
     "output_type": "execute_result"
    }
   ],
   "source": [
    "# How many samples are missing the feature AvgTemp?\n",
    "len(list(filter(lambda x: x[1]==None  ,tempDs)))"
   ]
  },
  {
   "cell_type": "code",
   "execution_count": 37,
   "id": "110866e9",
   "metadata": {},
   "outputs": [],
   "source": [
    "def adjustTails(ds):\n",
    "    k=0\n",
    "    h=len(ds)-1\n",
    "\n",
    "    while ds[0][1]==None:\n",
    "        k+=1\n",
    "        if ds[k][1]!= None:\n",
    "            ds[0][1]=ds[k][1]/2\n",
    "    \n",
    "    while ds[len(ds)-1][1]==None:\n",
    "        h-=1\n",
    "        if ds[h][1]!=None:\n",
    "            ds[len(ds)-1][1]=ds[h][1]/2\n",
    "        "
   ]
  },
  {
   "cell_type": "code",
   "execution_count": 38,
   "id": "146892dc",
   "metadata": {},
   "outputs": [],
   "source": [
    "def fillAvgTemp(ds):\n",
    "    adjustTails(ds)\n",
    "    for i, sample in enumerate(ds):\n",
    "        if sample[1]==None:\n",
    "            prec=ds[i-1][1]\n",
    "            succ=ds[i+1][1]\n",
    "            j=0\n",
    "            while succ == None:\n",
    "                j+=1\n",
    "                succ=ds[i+1+j][1]             \n",
    "                \n",
    "            sample[1]=(prec+succ)/2\n"
   ]
  },
  {
   "cell_type": "code",
   "execution_count": 49,
   "id": "e371717b",
   "metadata": {},
   "outputs": [],
   "source": [
    "fillAvgTemp(tempDs)"
   ]
  },
  {
   "cell_type": "code",
   "execution_count": null,
   "id": "1648b00a",
   "metadata": {},
   "outputs": [],
   "source": [
    "# How many samples are missing the feature AvgTemp?\n",
    "len(list(filter(lambda x: x[1]==None  ,tempDs)))"
   ]
  },
  {
   "cell_type": "code",
   "execution_count": 47,
   "id": "a905dcb3",
   "metadata": {},
   "outputs": [],
   "source": [
    "smallDs[0][1]=None\n",
    "smallDs[1][1]=7\n",
    "smallDs[2][1]=None\n",
    "smallDs[3][1]=None\n",
    "smallDs[4][1]=None"
   ]
  },
  {
   "cell_type": "code",
   "execution_count": 48,
   "id": "4c5e86f8",
   "metadata": {},
   "outputs": [
    {
     "name": "stdout",
     "output_type": "stream",
     "text": [
      "['1849-01-01', None, 1.435, 'Abidjan', \"CÃ´te D'Ivoire\", '5.63N', '3.23W']\n",
      "['1849-02-01', 7, 1.3619999999999999, 'Abidjan', \"CÃ´te D'Ivoire\", '5.63N', '3.23W']\n",
      "['1849-03-01', None, None, 'Abidjan', \"CÃ´te D'Ivoire\", '5.63N', '3.23W']\n",
      "['1849-04-01', None, 1.3869999999999998, 'Abidjan', \"CÃ´te D'Ivoire\", '5.63N', '3.23W']\n",
      "['1849-05-01', None, 1.2, 'Abidjan', \"CÃ´te D'Ivoire\", '5.63N', '3.23W']\n",
      "----------------\n",
      "['1849-01-01', 3.5, 1.435, 'Abidjan', \"CÃ´te D'Ivoire\", '5.63N', '3.23W']\n",
      "['1849-02-01', 7, 1.3619999999999999, 'Abidjan', \"CÃ´te D'Ivoire\", '5.63N', '3.23W']\n",
      "['1849-03-01', 5.25, None, 'Abidjan', \"CÃ´te D'Ivoire\", '5.63N', '3.23W']\n",
      "['1849-04-01', 4.375, 1.3869999999999998, 'Abidjan', \"CÃ´te D'Ivoire\", '5.63N', '3.23W']\n",
      "['1849-05-01', 3.5, 1.2, 'Abidjan', \"CÃ´te D'Ivoire\", '5.63N', '3.23W']\n"
     ]
    }
   ],
   "source": [
    "#smallDs=tempDs[:5]\n",
    "for i in range(5):\n",
    "    print(smallDs[i])\n",
    "    #26.78\n",
    "print('----------------')\n",
    "fillAvgTemp(smallDs)\n",
    "for i in range(5):\n",
    "    print(smallDs[i])"
   ]
  },
  {
   "cell_type": "code",
   "execution_count": null,
   "id": "a55451cc",
   "metadata": {},
   "outputs": [],
   "source": []
  }
 ],
 "metadata": {
  "kernelspec": {
   "display_name": "ipynbDsLab",
   "language": "python",
   "name": "ipynbdslab"
  },
  "language_info": {
   "codemirror_mode": {
    "name": "ipython",
    "version": 3
   },
   "file_extension": ".py",
   "mimetype": "text/x-python",
   "name": "python",
   "nbconvert_exporter": "python",
   "pygments_lexer": "ipython3",
   "version": "3.9.13"
  }
 },
 "nbformat": 4,
 "nbformat_minor": 5
}
