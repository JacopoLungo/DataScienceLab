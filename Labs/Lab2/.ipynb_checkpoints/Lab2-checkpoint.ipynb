{
 "cells": [
  {
   "cell_type": "markdown",
   "id": "f79b5b22",
   "metadata": {},
   "source": [
    "# LAB #2\n",
    "The purpose of this laboratory is to make you practice with the data preparation process. More specifically,you will tackle the task with tabular and textual input data, learning how to handle anomalies in the data,missing values and more."
   ]
  },
  {
   "cell_type": "markdown",
   "id": "10340a51",
   "metadata": {},
   "source": [
    "**Matplotlib availability**"
   ]
  },
  {
   "cell_type": "code",
   "execution_count": 32,
   "id": "7fd77e4f",
   "metadata": {},
   "outputs": [
    {
     "data": {
      "image/png": "[encoded data removed]",
      "text/plain": [
       "<Figure size 640x480 with 1 Axes>"
      ]
     },
     "metadata": {},
     "output_type": "display_data"
    }
   ],
   "source": [
    "from random import gauss\n",
    "import matplotlib.pyplot as plt\n",
    "l = [gauss(0, 1) for _ in range(500)]\n",
    "plt.hist(l)\n",
    "plt.title('Gaussian distribution (mu=0, sigma=1)')\n",
    "plt.show()"
   ]
  },
  {
   "cell_type": "markdown",
   "id": "b5715642",
   "metadata": {},
   "source": [
    "## Global Land Temperature\n",
    "This didactic version contains the formatted output files of the major cities of the globe with monthly granularity, between the years 1817 and 2012.\n",
    "\n",
    "The dataset is composed of ∼200k rows corresponding to the measurements taken the first day of the month in a given city.\n",
    "Each measurement is then described by 7 values:\n",
    "- Date, when the measurement was taken\n",
    "- AverageTemperature\n",
    "- AverageTemperatureUncertainty\n",
    "- City, from which the measurement was taken\n",
    "- Country\n",
    "- Latitude\n",
    "- Longitude"
   ]
  },
  {
   "cell_type": "code",
   "execution_count": 91,
   "id": "cd69893a",
   "metadata": {},
   "outputs": [
    {
     "name": "stdout",
     "output_type": "stream",
     "text": [
      "['Date', 'AverageTemperature', 'AverageTemperatureUncertainty', 'City', 'Country', 'Latitude', 'Longitude']\n",
      "['1849-01-01', 26.704, 1.435, 'Abidjan', \"CÃ´te D'Ivoire\", '5.63N', '3.23W']\n"
     ]
    }
   ],
   "source": [
    "#Import the csv\n",
    "import csv\n",
    "\n",
    "tempDs = [] #will be a list of lists\n",
    "\n",
    "with open (\"GLT_filtered.csv\") as f:\n",
    "    reader = csv.reader(f)\n",
    "    tempDs=list(reader)\n",
    "\n",
    "headers=tempDs[0]\n",
    "tempDs=tempDs[1:]\n",
    "for sample in tempDs:\n",
    "    if sample[1]!= '':\n",
    "        sample[1]=float(sample[1])\n",
    "    else:\n",
    "        sample[1]=None\n",
    "    \n",
    "    if sample[2]!= '':\n",
    "        sample[2]=float(sample[2])\n",
    "    else:\n",
    "        sample[2]=None   \n",
    "print(headers)\n",
    "print(tempDs[0])\n"
   ]
  },
  {
   "cell_type": "markdown",
   "id": "233593fb",
   "metadata": {},
   "source": [
    "**1 - Which feature types are there?**\n",
    "- Nominal: City, Country\n",
    "- Continous: AvergaeTemperature, AvergaeTemperatureUncertainty, Latitude, Longitude\n",
    "- Discrete: Date???"
   ]
  },
  {
   "cell_type": "markdown",
   "id": "c11925bc",
   "metadata": {},
   "source": [
    "**2 - Fill missing values in the *AverageTemperature* attribute**\n",
    "Analyze the attribute AverageTemperature, which contains missing values. Fill any gap with the arithmetic mean among the closest antecedent and the closest successive measurements in time, taken in the same city"
   ]
  },
  {
   "cell_type": "code",
   "execution_count": 92,
   "id": "8f87755f",
   "metadata": {},
   "outputs": [
    {
     "data": {
      "text/plain": [
       "27581"
      ]
     },
     "execution_count": 92,
     "metadata": {},
     "output_type": "execute_result"
    }
   ],
   "source": [
    "# How many samples are missing the feature AvgTemp?\n",
    "len(list(filter(lambda x: x[1]==None  ,tempDs)))"
   ]
  },
  {
   "cell_type": "markdown",
   "id": "6fb8dbfe",
   "metadata": {},
   "source": [
    "I create two function that apply to a dataset (a list of lists) that contains only measurements of a single city ordered by city, country and data"
   ]
  },
  {
   "cell_type": "code",
   "execution_count": null,
   "id": "5ff450da",
   "metadata": {},
   "outputs": [],
   "source": [
    "#Given a cronological ordered list of lists that contains record\n",
    "#about only one city, fills the avgTemp of first and last list if it is\n",
    "#missing\n",
    "def adjustTails(ds):\n",
    "    k=0\n",
    "    h=len(ds)-1\n",
    "\n",
    "    while ds[0][1]==None:\n",
    "        k+=1\n",
    "        if ds[k][1]!= None:\n",
    "            ds[0][1]=ds[k][1]/2\n",
    "    \n",
    "    while ds[len(ds)-1][1]==None:\n",
    "        h-=1\n",
    "        if ds[h][1]!=None:\n",
    "            ds[len(ds)-1][1]=ds[h][1]/2"
   ]
  },
  {
   "cell_type": "code",
   "execution_count": 94,
   "id": "cab0a4b1",
   "metadata": {},
   "outputs": [],
   "source": [
    "#Given a cronological ordered list of lists that contains record\n",
    "#about only one city, fills the avgTemp of all the list (head and tail\n",
    "#excluded) if it is missing\n",
    "def fillAvgTemp(ds):\n",
    "    adjustTails(ds)\n",
    "    for i, sample in enumerate(ds):\n",
    "        if sample[1]==None:\n",
    "            prec=ds[i-1][1]\n",
    "            succ=ds[i+1][1]\n",
    "            j=0\n",
    "            while succ == None:\n",
    "                j+=1\n",
    "                succ=ds[i+1+j][1]             \n",
    "                \n",
    "            sample[1]=(prec+succ)/2"
   ]
  },
  {
   "cell_type": "markdown",
   "id": "843d2624",
   "metadata": {},
   "source": [
    "This code below divdes the dataset by city: each element of the outer list is a list that contains only measurements related to a single city"
   ]
  },
  {
   "cell_type": "code",
   "execution_count": 95,
   "id": "e0c745ce",
   "metadata": {},
   "outputs": [],
   "source": [
    "#I assume that the tempDs is already ordered by city, country and data\n",
    "#Create a list(whole ds) of lists(a single city) of lists(measures of that city)\n",
    "#[ [ [], [], [] ], [ [], [],[]] ]\n",
    "currentCity = tempDs[0][3]\n",
    "currentCounty = tempDs[0][4]\n",
    "listOfListsSingleCity=[]\n",
    "listSingleCity=[]\n",
    "\n",
    "for row in tempDs:\n",
    "    if row[3]==currentCity and row[4]==currentCounty:\n",
    "        listSingleCity.append(row)\n",
    "    else:\n",
    "        listOfListsSingleCity.append(listSingleCity)\n",
    "        currentCity = row[3]\n",
    "        currentCounty = row[4]\n",
    "        listSingleCity=[]\n",
    "        listSingleCity.append(row)\n",
    "#I manage the last city since it does not go through the last else\n",
    "listOfListsSingleCity.append(listSingleCity)\n",
    "\n",
    "#print(listOfListsSingleCity[-1][:5])"
   ]
  },
  {
   "cell_type": "code",
   "execution_count": 97,
   "id": "db481d6e",
   "metadata": {},
   "outputs": [],
   "source": [
    "for el in listOfListsSingleCity:# el is a list of lists\n",
    "    fillAvgTemp(el)"
   ]
  },
  {
   "cell_type": "code",
   "execution_count": 98,
   "id": "f17dc024",
   "metadata": {},
   "outputs": [
    {
     "data": {
      "text/plain": [
       "0"
      ]
     },
     "execution_count": 98,
     "metadata": {},
     "output_type": "execute_result"
    }
   ],
   "source": [
    "# How many samples are missing the feature AvgTemp?\n",
    "len(list(filter(lambda x: x[1]==None  ,tempDs)))"
   ]
  },
  {
   "cell_type": "markdown",
   "id": "abd1edf0",
   "metadata": {},
   "source": [
    "**3 - Hottest and Coldest**\n",
    "Define a function that, given the name of a city and an integer N > 0, prints:\n",
    "1. the top N hottest measurements;\n",
    "2. the top N coldest measurements."
   ]
  },
  {
   "cell_type": "code",
   "execution_count": 110,
   "id": "4684c9cc",
   "metadata": {},
   "outputs": [],
   "source": [
    "#return a list of ordered lists with the right city\n",
    "def rightCityAndSorted(ds,cityName):\n",
    "    rightCity=[l for l in ds if l[3]==cityName]#filter on the right city\n",
    "    if len(rightCity)==0:\n",
    "        print(f\"{cityName} is not in the dataset\")\n",
    "        return None\n",
    "    return sorted(rightCity, key=lambda x : x[1])#order by avg temperature"
   ]
  },
  {
   "cell_type": "code",
   "execution_count": 118,
   "id": "a14a2277",
   "metadata": {},
   "outputs": [],
   "source": [
    "#given a ds (list of lists) return the top N and last N\n",
    "def nHottestAndColdest(ds, cityName ,N):\n",
    "    l = rightCityAndSorted(ds,cityName)\n",
    "    if l == None:\n",
    "        return\n",
    "    if N <= 0:\n",
    "        print(\"N cannot be <= 0\")\n",
    "        return\n",
    "    coldest = l[:N]\n",
    "    hottest = l[-N:][::-1]#takes last N and reverses it\n",
    "    print(f'Top {N} hottest:')\n",
    "    for el in hottest:\n",
    "        print(f'{el[1]:.2f}')\n",
    "    print(f'\\nTop {N} coldest:')\n",
    "    for el in coldest:\n",
    "        print(f'{el[1]:.2f}')"
   ]
  },
  {
   "cell_type": "code",
   "execution_count": 120,
   "id": "7e351857",
   "metadata": {},
   "outputs": [
    {
     "name": "stdout",
     "output_type": "stream",
     "text": [
      "Top 2 hottest:\n",
      "24.58\n",
      "22.43\n",
      "\n",
      "Top 2 coldest:\n",
      "-19.38\n",
      "-19.27\n"
     ]
    }
   ],
   "source": [
    "nHottestAndColdest(tempDs, 'Moscow',2)"
   ]
  },
  {
   "cell_type": "markdown",
   "id": "21d88882",
   "metadata": {},
   "source": [
    "_____\n",
    "## Textual data preparation on IMDB reviews\n",
    "This exercise is meant to get you acquainted with the preprocessing of textual data.\n",
    "\n",
    "Let’s imagine the IMDb platform wants an automatic procedure to assign a numerical value to a user review, based of the content of the text, to identify the rate he or she would have given to the movie. Simplifying the task, you might want to assign a label, Positive or Negative, to identify the overall sentiment, i.e. whether the user liked the movie or not. To do so, you will implement the TF-IDF weighting scheme on IMDb reviews. Then, you will compute the distance between a review whose sentiment is unknown and the two sets of positive and negative comments, assigning the sentiment of the closest one among the two."
   ]
  },
  {
   "cell_type": "markdown",
   "id": "f2bad40c",
   "metadata": {},
   "source": [
    "**1 - Lod the IMDb dataset as a list of lists**"
   ]
  },
  {
   "cell_type": "code",
   "execution_count": null,
   "id": "2211b378",
   "metadata": {},
   "outputs": [],
   "source": []
  }
 ],
 "metadata": {
  "kernelspec": {
   "display_name": "ipynbDsLab",
   "language": "python",
   "name": "ipynbdslab"
  },
  "language_info": {
   "codemirror_mode": {
    "name": "ipython",
    "version": 3
   },
   "file_extension": ".py",
   "mimetype": "text/x-python",
   "name": "python",
   "nbconvert_exporter": "python",
   "pygments_lexer": "ipython3",
   "version": "3.9.13"
  }
 },
 "nbformat": 4,
 "nbformat_minor": 5
}
