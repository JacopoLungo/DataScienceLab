{
 "cells": [
  {
   "cell_type": "markdown",
   "id": "473aa602",
   "metadata": {},
   "source": [
    "## 2.1 Iris dataset\n",
    "1. Load the previously downloaded Iris dataset as a list of lists (each of the 150 lists should have 5 elements).\n",
    "*The file has been downloaded with the terinal command:\n",
    "$ wget \"https://archive.ics.uci.edu/ml/machine-learning-databases/iris/iris.data\" -O iris.csv*"
   ]
  },
  {
   "cell_type": "markdown",
   "id": "a5e02919",
   "metadata": {},
   "source": [
    "**Read a csv file and cast it in the desired format**\n"
   ]
  },
  {
   "cell_type": "code",
   "execution_count": 13,
   "id": "12d06d4d",
   "metadata": {
    "scrolled": false
   },
   "outputs": [
    {
     "name": "stdout",
     "output_type": "stream",
     "text": [
      "[4.9, 3.0, 1.4, 0.2, 'Iris-setosa']\n",
      "[7.0, 3.2, 4.7, 1.4, 'Iris-versicolor']\n",
      "[6.3, 3.3, 6.0, 2.5, 'Iris-virginica']\n"
     ]
    }
   ],
   "source": [
    "import csv\n",
    "\n",
    "irisDataset = [] #will be a list of lists\n",
    "\n",
    "with open(\"iris.csv\") as f:\n",
    "    for cols in csv.reader(f):\n",
    "        if len(cols) != 0:\n",
    "            for i in range(4):\n",
    "                cols[i]=float(cols[i])\n",
    "            irisDataset.append(cols)\n",
    "print(irisDataset[1])\n",
    "print(irisDataset[50])\n",
    "print(irisDataset[100])"
   ]
  },
  {
   "cell_type": "markdown",
   "id": "478a84b8",
   "metadata": {},
   "source": [
    "2. Compute and print the mean and the standard deviation for each of the 4 measurement columns."
   ]
  },
  {
   "cell_type": "code",
   "execution_count": 17,
   "id": "a47198b5",
   "metadata": {
    "scrolled": true
   },
   "outputs": [
    {
     "name": "stdout",
     "output_type": "stream",
     "text": [
      "Sepal Length --> mean: 5.8 std: 0.83\n",
      "Sepal Width --> mean: 3.1 std: 0.43\n",
      "Petal Length --> mean: 3.8 std: 1.8\n",
      "Petal Width --> mean: 1.2 std: 0.76\n"
     ]
    }
   ],
   "source": [
    "n=len(irisDataset)\n",
    "labels = ['Sepal Length','Sepal Width', 'Petal Length', 'Petal Width']\n",
    "sums=[0,0,0,0]\n",
    "means=[0,0,0,0]\n",
    "# Mean computation\n",
    "for row in irisDataset:\n",
    "    for i in range(4):\n",
    "        sums[i]+=row[i]\n",
    "for i in range(4):\n",
    "    means[i]=sums[i]/n\n",
    "\n",
    "#Standard Deviation computation\n",
    "sumsStd=[0,0,0,0]\n",
    "stdS=[0,0,0,0]\n",
    "for row in irisDataset:\n",
    "    for i in range(4):\n",
    "        sumsStd[i]+=((row[i]-means[i])**2)\n",
    "\n",
    "for i in range(4):\n",
    "    stdS[i]=(sumsStd[i]/n)**0.5\n",
    "    print(f\"{labels[i]} --> mean: {means[i]:.2} std: {stdS[i]:.2}\")"
   ]
  },
  {
   "cell_type": "markdown",
   "id": "8f687788",
   "metadata": {},
   "source": [
    "### Citybik.es\n",
    "### Domande per il prof\n",
    "* **Cosa si intende con \"explore its contents from an interactive shell\"???**\n",
    "* **Come fare a scaricare ogni volta il file aggiornato a quando faccio girare il programma?**"
   ]
  },
  {
   "cell_type": "code",
   "execution_count": 11,
   "id": "c7a22878",
   "metadata": {},
   "outputs": [
    {
     "name": "stdout",
     "output_type": "stream",
     "text": [
      "Number of active stations: 111\n",
      "Free Bikes: 163\n",
      "Free Docks: 1292\n"
     ]
    }
   ],
   "source": [
    "import json\n",
    "\n",
    "activeStations = 0\n",
    "\n",
    "#Dovrei scrivere dentro il with o fuori??????????????\n",
    "with open(\"bike.json\") as f:\n",
    "    obj = json.load(f)\n",
    "stations = obj['network']['stations']\n",
    "\n",
    "#Number of active stations\n",
    "for station in stations:\n",
    "    if station['extra']['status']=='online':\n",
    "        activeStations+=1\n",
    "\n",
    "print(f'Number of active stations: {activeStations}')\n",
    "\n",
    "#Number of total available bikes (field free_bikes) and\n",
    "#number of free docks(field empty_slots)\n",
    "\n",
    "availableBikes = 0\n",
    "freeDocks = 0\n",
    "for station in stations:\n",
    "    availableBikes += station['free_bikes']\n",
    "    freeDocks += station['empty_slots']\n",
    "print(f'Free Bikes: {availableBikes}\\nFree Docks: {freeDocks}')\n",
    "    "
   ]
  },
  {
   "cell_type": "markdown",
   "id": "e82dffa6",
   "metadata": {},
   "source": [
    "### MNIST\n",
    "From: https://raw.githubusercontent.com/dbdmg/data-science-lab/master/datasets/mnist_test.csv\n",
    "\n",
    "It contains 10,000 digits and for each digit, 785 values are available: the first one is the numerical value depicted in the image. The following 784 columns represent the grayscale\n",
    "image in row-major order (It does count all the first row, then it passes to the second row and so on)\n"
   ]
  },
  {
   "cell_type": "code",
   "execution_count": 21,
   "id": "1c785d33",
   "metadata": {},
   "outputs": [
    {
     "name": "stdout",
     "output_type": "stream",
     "text": [
      "It should be a 7\n",
      "                            \n",
      "                            \n",
      "                            \n",
      "                            \n",
      "                            \n",
      "                            \n",
      "           ##******         \n",
      "          *########.        \n",
      "         .##   .**##        \n",
      "        *##.     .##        \n",
      "        ##.      ##.        \n",
      "        *       .##.        \n",
      "                *##         \n",
      "               .##.         \n",
      "               ###          \n",
      "              *##.          \n",
      "              ###           \n",
      "             .##.           \n",
      "             ##*            \n",
      "            ###             \n",
      "           .##.             \n",
      "           ###              \n",
      "          *##.              \n",
      "          ##*               \n",
      "         *##                \n",
      "         ##.                \n",
      "                            \n",
      "                            \n"
     ]
    }
   ],
   "source": [
    "def sketch(dataset, position):\n",
    "    boundaries = (((0,64),\" \"),((64,128),\".\"),((128,192),\"*\"),((192,256),\"#\"))\n",
    "    index=position-1\n",
    "    number = dataset[index]\n",
    "    label = number.pop(0) #remove the first element(the number indicated)\n",
    "    string=''\n",
    "    print(f'It should be a {label}')\n",
    "    for i in range(784):\n",
    "        \n",
    "        for j in range(4): #calculate in which bucket the specific value falls\n",
    "            if int(number[i]) >= boundaries[j][0][0] and int(number[i]) < boundaries[j][0][1]:\n",
    "                char = boundaries[j][1]\n",
    "        \n",
    "        string+=char\n",
    "        if (i+1)%28 == 0: #after 28 char, print the accumulated string and new line\n",
    "            print(string)\n",
    "            string=''\n",
    "\n",
    "\n",
    "import csv\n",
    "\n",
    "minstDataset = [] #will be a list of lists\n",
    "\n",
    "with open(\"mnist.csv\") as f:\n",
    "    mnistDataset = list(csv.reader(f))\n",
    "\n",
    "import random #to test the function with different numbers\n",
    "sketch(mnistDataset, random.randint(1, 10000))"
   ]
  },
  {
   "cell_type": "code",
   "execution_count": null,
   "id": "937e7202",
   "metadata": {},
   "outputs": [],
   "source": []
  }
 ],
 "metadata": {
  "kernelspec": {
   "display_name": "ipynbDsLab",
   "language": "python",
   "name": "ipynbdslab"
  },
  "language_info": {
   "codemirror_mode": {
    "name": "ipython",
    "version": 3
   },
   "file_extension": ".py",
   "mimetype": "text/x-python",
   "name": "python",
   "nbconvert_exporter": "python",
   "pygments_lexer": "ipython3",
   "version": "3.9.13"
  }
 },
 "nbformat": 4,
 "nbformat_minor": 5
}
