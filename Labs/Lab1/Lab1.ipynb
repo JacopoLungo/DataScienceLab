{
 "cells": [
  {
   "cell_type": "markdown",
   "id": "924fe3e2",
   "metadata": {},
   "source": [
    "## 2.1 Iris dataset\n",
    "1. Load the previously downloaded Iris dataset as a list of lists (each of the 150 lists should have 5 elements).\n",
    "*The file has been downloaded with the terinal command:\n",
    "$ wget \"https://archive.ics.uci.edu/ml/machine-learning-databases/iris/iris.data\" -O iris.csv*"
   ]
  },
  {
   "cell_type": "markdown",
   "id": "a5e02919",
   "metadata": {},
   "source": [
    "**Read a csv file and cast it in the desired format**\n"
   ]
  },
  {
   "cell_type": "code",
   "execution_count": 4,
   "id": "12d06d4d",
   "metadata": {
    "scrolled": false
   },
   "outputs": [
    {
     "name": "stdout",
     "output_type": "stream",
     "text": [
      "[4.9, 3.0, 1.4, 0.2, 'Iris-setosa']\n",
      "[7.0, 3.2, 4.7, 1.4, 'Iris-versicolor']\n",
      "[6.3, 3.3, 6.0, 2.5, 'Iris-virginica']\n"
     ]
    }
   ],
   "source": [
    "import csv\n",
    "\n",
    "dataset = [] #will be a list of lists\n",
    "\n",
    "with open(\"iris.csv\") as f:\n",
    "    for cols in csv.reader(f):\n",
    "        if len(cols) != 0:\n",
    "            for i in range(4):\n",
    "                cols[i]=float(cols[i])\n",
    "            dataset.append(cols)\n",
    "print(dataset[1])\n",
    "print(dataset[50])\n",
    "print(dataset[100])"
   ]
  },
  {
   "cell_type": "markdown",
   "id": "968ff091",
   "metadata": {},
   "source": [
    "2. Compute and print the mean and the standard deviation for each of the 4 measurement columns."
   ]
  },
  {
   "cell_type": "code",
   "execution_count": 9,
   "id": "32fcf1a0",
   "metadata": {
    "scrolled": true
   },
   "outputs": [
    {
     "name": "stdout",
     "output_type": "stream",
     "text": [
      "SepLenght --> mean: 5.8 std: 0.83\n",
      "SepWidth --> mean: 3.1 std: 0.43\n",
      "PetalLenght --> mean: 3.8 std: 1.8\n",
      "PetalWidth --> mean: 1.2 std: 0.76\n"
     ]
    }
   ],
   "source": [
    "n=len(dataset)\n",
    "sumSepLenght=0\n",
    "sumSepWidth=0\n",
    "sumPetalLenght=0\n",
    "sumPetalWidth=0\n",
    "# Mean computation\n",
    "for row in dataset:\n",
    "    sumSepLenght+=row[0]\n",
    "    sumSepWidth+=row[1]\n",
    "    sumPetalLenght+=row[2]\n",
    "    sumPetalWidth+=row[3]\n",
    "\n",
    "mSL=sumSepLenght/n\n",
    "mSW=sumSepWidth/n\n",
    "mPL=sumPetalLenght/n\n",
    "mPW=sumPetalWidth/n\n",
    "\n",
    "#Standard Deviation computation\n",
    "sumStdSL=0\n",
    "sumStdSW=0\n",
    "sumStdPL=0\n",
    "sumStdPW=0\n",
    "\n",
    "for row in dataset:\n",
    "    sumStdSL+=((row[0]-mSL)**2)\n",
    "    sumStdSW+=((row[1]-mSW)**2)\n",
    "    sumStdPL+=((row[2]-mPL)**2)\n",
    "    sumStdPW+=((row[3]-mPW)**2)\n",
    "    \n",
    "stdSL=(sumStdSL/n)**0.5\n",
    "stdSW=(sumStdSW/n)**0.5\n",
    "stdPL=(sumStdPL/n)**0.5\n",
    "stdPW=(sumStdPW/n)**0.5\n",
    "\n",
    "print(f\"SepLenght --> mean: {mSL:.2} std: {stdSL:.2}\")\n",
    "print(f\"SepWidth --> mean: {mSW:.2} std: {stdSW:.2}\")\n",
    "print(f\"PetalLenght --> mean: {mPL:.2} std: {stdPL:.2}\")\n",
    "print(f\"PetalWidth --> mean: {mPW:.2} std: {stdPW:.2}\")"
   ]
  },
  {
   "cell_type": "code",
   "execution_count": 12,
   "id": "f58d4a9b",
   "metadata": {
    "scrolled": true
   },
   "outputs": [
    {
     "name": "stdout",
     "output_type": "stream",
     "text": [
      "Sepal Length --> mean: 5.8 std: 0.83\n",
      "Sepal Width --> mean: 3.1 std: 0.43\n",
      "Petal Length --> mean: 3.8 std: 1.8\n",
      "Petal Width --> mean: 1.2 std: 0.76\n"
     ]
    }
   ],
   "source": [
    "n=len(dataset)\n",
    "labels = ['Sepal Length','Sepal Width', 'Petal Length', 'Petal Width']\n",
    "sums=[0,0,0,0]\n",
    "means=[0,0,0,0]\n",
    "# Mean computation\n",
    "for row in dataset:\n",
    "    for i in range(4):\n",
    "        sums[i]+=row[i]\n",
    "for i in range(4):\n",
    "    means[i]=sums[i]/n\n",
    "\n",
    "#Standard Deviation computation\n",
    "sumsStd=[0,0,0,0]\n",
    "stdS=[0,0,0,0]\n",
    "for row in dataset:\n",
    "    for i in range(4):\n",
    "        sumsStd[i]+=((row[i]-means[i])**2)\n",
    "\n",
    "for i in range(4):\n",
    "    stdS[i]=(sumsStd[i]/n)**0.5\n",
    "    print(f\"{labels[i]} --> mean: {means[i]:.2} std: {stdS[i]:.2}\")"
   ]
  },
  {
   "cell_type": "markdown",
   "id": "8f687788",
   "metadata": {},
   "source": [
    "### Citybik.es"
   ]
  },
  {
   "cell_type": "code",
   "execution_count": null,
   "id": "c7a22878",
   "metadata": {},
   "outputs": [],
   "source": [
    "import json\n",
    "with open(\"bike.json\") as f:\n",
    "    obj = json.load(f)\n",
    "    print(obj)"
   ]
  },
  {
   "cell_type": "markdown",
   "id": "39bb4390",
   "metadata": {},
   "source": [
    "### MNIST\n",
    "From: https://raw.githubusercontent.com/dbdmg/data-science-lab/master/datasets/mnist_test.csv\n",
    "\n",
    "It contains 10,000 digits and for each digit, 785 values are available: the first one is the numerical value depicted in the image. The following 784 columns represent the grayscale\n",
    "image in row-major order (It does count all the first row, then it passes to the second row and so on)\n"
   ]
  },
  {
   "cell_type": "code",
   "execution_count": null,
   "id": "b2555535",
   "metadata": {},
   "outputs": [],
   "source": []
  }
 ],
 "metadata": {
  "kernelspec": {
   "display_name": "ipynbDsLab",
   "language": "python",
   "name": "ipynbdslab"
  },
  "language_info": {
   "codemirror_mode": {
    "name": "ipython",
    "version": 3
   },
   "file_extension": ".py",
   "mimetype": "text/x-python",
   "name": "python",
   "nbconvert_exporter": "python",
   "pygments_lexer": "ipython3",
   "version": "3.9.13"
  }
 },
 "nbformat": 4,
 "nbformat_minor": 5
}
