{
 "cells": [
  {
   "cell_type": "markdown",
   "id": "1764d9c6",
   "metadata": {},
   "source": [
    "## 2.1 Iris dataset\n",
    "1. Load the previously downloaded Iris dataset as a list of lists (each of the 150 lists should have 5 elements).\n",
    "*The file has been downloaded with the terinal command:\n",
    "$ wget \"https://archive.ics.uci.edu/ml/machine-learning-databases/iris/iris.data\" -O iris.csv*"
   ]
  },
  {
   "cell_type": "markdown",
   "id": "a5e02919",
   "metadata": {},
   "source": [
    "**Read a csv file and cast it in the desired format**\n"
   ]
  },
  {
   "cell_type": "code",
   "execution_count": 1,
   "id": "12d06d4d",
   "metadata": {
    "scrolled": false
   },
   "outputs": [
    {
     "name": "stdout",
     "output_type": "stream",
     "text": [
      "[4.9, 3.0, 1.4, 0.2, 'Iris-setosa']\n",
      "[7.0, 3.2, 4.7, 1.4, 'Iris-versicolor']\n",
      "[6.3, 3.3, 6.0, 2.5, 'Iris-virginica']\n"
     ]
    }
   ],
   "source": [
    "import csv\n",
    "\n",
    "irisDataset = [] #will be a list of lists\n",
    "\n",
    "with open(\"iris.csv\") as f:\n",
    "    for cols in csv.reader(f):\n",
    "        if len(cols) != 0:\n",
    "            for i in range(4):\n",
    "                cols[i]=float(cols[i])\n",
    "            irisDataset.append(cols)\n",
    "print(irisDataset[1])\n",
    "print(irisDataset[50])\n",
    "print(irisDataset[100])"
   ]
  },
  {
   "cell_type": "markdown",
   "id": "1e3c644f",
   "metadata": {},
   "source": [
    "2. Compute and print the mean and the standard deviation for each of the 4 measurement columns."
   ]
  },
  {
   "cell_type": "code",
   "execution_count": 2,
   "id": "45c46ddf",
   "metadata": {
    "scrolled": true
   },
   "outputs": [],
   "source": [
    "# I define a function for the calculation of the mean and the std\n",
    "\n",
    "def meanStdCols(ds):\n",
    "    n=len(ds)\n",
    "    labels = ['Sepal Length','Sepal Width', 'Petal Length', 'Petal Width']\n",
    "    sums=[0,0,0,0]\n",
    "    means=[0,0,0,0]\n",
    "    # Mean computation\n",
    "    for row in ds:\n",
    "        for i in range(4):\n",
    "            sums[i]+=row[i]\n",
    "    for i in range(4):\n",
    "        means[i]=sums[i]/n\n",
    "\n",
    "#Standard Deviation computation\n",
    "    sumsStd=[0,0,0,0]\n",
    "    stdS=[0,0,0,0]\n",
    "    for row in ds:\n",
    "        for i in range(4):\n",
    "            sumsStd[i]+=((row[i]-means[i])**2)\n",
    "\n",
    "    for i in range(4):\n",
    "        stdS[i]=(sumsStd[i]/n)**0.5\n",
    "        print(f\"{labels[i]} --> mean: {means[i]:.2} std: {stdS[i]:.2}\")"
   ]
  },
  {
   "cell_type": "code",
   "execution_count": 3,
   "id": "eb6440b7",
   "metadata": {},
   "outputs": [
    {
     "name": "stdout",
     "output_type": "stream",
     "text": [
      "Sepal Length --> mean: 5.8 std: 0.83\n",
      "Sepal Width --> mean: 3.1 std: 0.43\n",
      "Petal Length --> mean: 3.8 std: 1.8\n",
      "Petal Width --> mean: 1.2 std: 0.76\n"
     ]
    }
   ],
   "source": [
    "# I apply the function to the irisDataset as a whole\n",
    "meanStdCols(irisDataset)"
   ]
  },
  {
   "cell_type": "code",
   "execution_count": 4,
   "id": "d5730812",
   "metadata": {
    "scrolled": true
   },
   "outputs": [
    {
     "name": "stdout",
     "output_type": "stream",
     "text": [
      "Sepal Length --> mean: 5.8 std: 0.83\n",
      "Sepal Width --> mean: 3.1 std: 0.43\n",
      "Petal Length --> mean: 3.8 std: 1.8\n",
      "Petal Width --> mean: 1.2 std: 0.76\n"
     ]
    }
   ],
   "source": [
    "#Cella eliminabile\n",
    "\n",
    "n=len(irisDataset)\n",
    "labels = ['Sepal Length','Sepal Width', 'Petal Length', 'Petal Width']\n",
    "sums=[0,0,0,0]\n",
    "means=[0,0,0,0]\n",
    "# Mean computation\n",
    "for row in irisDataset:\n",
    "    for i in range(4):\n",
    "        sums[i]+=row[i]\n",
    "for i in range(4):\n",
    "    means[i]=sums[i]/n\n",
    "\n",
    "#Standard Deviation computation\n",
    "sumsStd=[0,0,0,0]\n",
    "stdS=[0,0,0,0]\n",
    "for row in irisDataset:\n",
    "    for i in range(4):\n",
    "        sumsStd[i]+=((row[i]-means[i])**2)\n",
    "\n",
    "for i in range(4):\n",
    "    stdS[i]=(sumsStd[i]/n)**0.5\n",
    "    print(f\"{labels[i]} --> mean: {means[i]:.2} std: {stdS[i]:.2}\")"
   ]
  },
  {
   "cell_type": "markdown",
   "id": "69d18b57",
   "metadata": {},
   "source": [
    "3 - Compute and print the mean and the standard deviation for each of the 4 measurement columns,\n",
    "separately for each of the three Iris species (versicolor, virginica and setosa)."
   ]
  },
  {
   "cell_type": "code",
   "execution_count": 5,
   "id": "37fffdf7",
   "metadata": {},
   "outputs": [
    {
     "name": "stdout",
     "output_type": "stream",
     "text": [
      "Iris-setosa\n",
      "Sepal Length --> mean: 5.0 std: 0.35\n",
      "Sepal Width --> mean: 3.4 std: 0.38\n",
      "Petal Length --> mean: 1.5 std: 0.17\n",
      "Petal Width --> mean: 0.24 std: 0.11\n",
      "\n",
      "\n",
      "\n",
      "Iris-versicolor\n",
      "Sepal Length --> mean: 5.9 std: 0.51\n",
      "Sepal Width --> mean: 2.8 std: 0.31\n",
      "Petal Length --> mean: 4.3 std: 0.47\n",
      "Petal Width --> mean: 1.3 std: 0.2\n",
      "\n",
      "\n",
      "\n",
      "Iris-virginica\n",
      "Sepal Length --> mean: 6.6 std: 0.63\n",
      "Sepal Width --> mean: 3.0 std: 0.32\n",
      "Petal Length --> mean: 5.6 std: 0.55\n",
      "Petal Width --> mean: 2.0 std: 0.27\n",
      "\n",
      "\n",
      "\n"
     ]
    }
   ],
   "source": [
    "species = [('Iris-setosa',[]),('Iris-versicolor',[]),('Iris-virginica',[])]\n",
    "\n",
    "#Divide the species\n",
    "for row in irisDataset:\n",
    "    for i in range(3): \n",
    "        if row[4] == species[i][0]:\n",
    "            species[i][1].append(row[:4])\n",
    "\n",
    "# I apply the function for the 3 dateset each one containing a single species\n",
    "for spec in species:\n",
    "    print(spec[0])\n",
    "    meanStdCols(spec[1])\n",
    "    print(2*'\\n')         \n",
    "        \n"
   ]
  },
  {
   "cell_type": "markdown",
   "id": "e13167c6",
   "metadata": {},
   "source": [
    "**4** - The best measurement to guess the Iris-setosa is 'Petal Lenght' since it is significantly different from the other species.\n",
    "Petal Width is also very different among the species."
   ]
  },
  {
   "cell_type": "markdown",
   "id": "1b561767",
   "metadata": {},
   "source": [
    "**5** - Assign the flowers with the following measurements\n",
    "to what you consider would be the most likely species.\n",
    "\n",
    "5.2, 3.1, 4.0, 1.2\n",
    "\n",
    "4.9, 2.5, 5.6, 2.0\n",
    "\n",
    "5.4, 3.2, 1.9, 0.4"
   ]
  },
  {
   "cell_type": "code",
   "execution_count": null,
   "id": "2be920c4",
   "metadata": {},
   "outputs": [],
   "source": []
  },
  {
   "cell_type": "markdown",
   "id": "8f687788",
   "metadata": {},
   "source": [
    "### Citybik.es\n",
    "### Domande per il prof\n",
    "* **Cosa si intende con \"explore its contents from an interactive shell\"???**\n",
    "* **Come fare a scaricare ogni volta il file aggiornato a quando faccio girare il programma?**"
   ]
  },
  {
   "cell_type": "code",
   "execution_count": 6,
   "id": "c7a22878",
   "metadata": {},
   "outputs": [
    {
     "name": "stdout",
     "output_type": "stream",
     "text": [
      "Number of active stations: 111\n",
      "Free Bikes: 163\n",
      "Free Docks: 1292\n"
     ]
    }
   ],
   "source": [
    "import json\n",
    "\n",
    "activeStations = 0\n",
    "\n",
    "#Dovrei scrivere dentro il with o fuori??\n",
    "with open(\"bike.json\") as f:\n",
    "    obj = json.load(f)\n",
    "stations = obj['network']['stations']\n",
    "\n",
    "#Number of active stations\n",
    "for station in stations:\n",
    "    if station['extra']['status']=='online':\n",
    "        activeStations+=1\n",
    "\n",
    "print(f'Number of active stations: {activeStations}')\n",
    "\n",
    "#Number of total available bikes (field free_bikes) and\n",
    "#number of free docks(field empty_slots)\n",
    "\n",
    "availableBikes = 0\n",
    "freeDocks = 0\n",
    "for station in stations:\n",
    "    availableBikes += station['free_bikes']\n",
    "    freeDocks += station['empty_slots']\n",
    "print(f'Free Bikes: {availableBikes}\\nFree Docks: {freeDocks}')\n",
    "    "
   ]
  },
  {
   "cell_type": "markdown",
   "id": "2a97119f",
   "metadata": {},
   "source": [
    "### MNIST\n",
    "From: https://raw.githubusercontent.com/dbdmg/data-science-lab/master/datasets/mnist_test.csv\n",
    "\n",
    "It contains 10,000 digits and for each digit, 785 values are available: the first one is the numerical value depicted in the image. The following 784 columns represent the grayscale\n",
    "image in row-major order (It does count all the first row, then it passes to the second row and so on)\n"
   ]
  },
  {
   "cell_type": "code",
   "execution_count": 26,
   "id": "103c696b",
   "metadata": {
    "scrolled": false
   },
   "outputs": [
    {
     "name": "stdout",
     "output_type": "stream",
     "text": [
      "It should be a 0\n",
      "                            \n",
      "                            \n",
      "                            \n",
      "                            \n",
      "                            \n",
      "           *###**           \n",
      "          .#######*.        \n",
      "         .##########*       \n",
      "        .############*      \n",
      "       .########**####*     \n",
      "      *#####.*#*   *###*    \n",
      "      #####. .#*    .###.   \n",
      "     .####*   **     *##*   \n",
      "     *###*.          *##*   \n",
      "     ####*           *##*   \n",
      "     ####            *###   \n",
      "     ####            *###   \n",
      "     *###           **##*   \n",
      "      ###         .*####*   \n",
      "      *##*       .*#####*   \n",
      "      *###*.*** *######*    \n",
      "       *#############*      \n",
      "        ###########*        \n",
      "         *########.         \n",
      "            *****           \n",
      "                            \n",
      "                            \n",
      "                            \n"
     ]
    }
   ],
   "source": [
    "def sketch(dataset, position):\n",
    "    boundaries = (((0,64),\" \"),((64,128),\".\"),((128,192),\"*\"),((192,256),\"#\"))\n",
    "    index=position-1\n",
    "    number = dataset[index]\n",
    "   # label = number.pop(0) #remove the first element(the number indicated)\n",
    "    label = number[0] #\n",
    "    number=number[1:] #\n",
    "    string=''\n",
    "    print(f'It should be a {label}')\n",
    "    for i in range(784):\n",
    "        \n",
    "        for j in range(4): #calculate in which bucket the specific value falls\n",
    "            if int(number[i]) >= boundaries[j][0][0] and int(number[i]) < boundaries[j][0][1]:\n",
    "                char = boundaries[j][1]\n",
    "        \n",
    "        string+=char\n",
    "        if (i+1)%28 == 0: #after 28 char, print the accumulated string and new line\n",
    "            print(string)\n",
    "            string=''\n",
    "\n",
    "\n",
    "import csv\n",
    "\n",
    "minstDataset = [] #will be a list of lists\n",
    "\n",
    "with open(\"mnist.csv\") as f:\n",
    "    mnistDataset = list(csv.reader(f))\n",
    "\n",
    "import random #to test the function with different numbers\n",
    "sketch(mnistDataset, random.randint(1, 10000))"
   ]
  },
  {
   "cell_type": "markdown",
   "id": "761887e7",
   "metadata": {},
   "source": [
    "**3** - Compute the Euclidean distance between each pair of the 784-dimensional vectors of the digits at\n",
    "the following positions: $26^{th}$, $30^{th}$, $32^{nd}$, $35^{th}$"
   ]
  },
  {
   "cell_type": "code",
   "execution_count": 8,
   "id": "7938d586",
   "metadata": {},
   "outputs": [],
   "source": [
    "def EuclideanDist(v1,v2):\n",
    "    if len(v1)!= len(v2):\n",
    "        print('vectors of different lenght!')\n",
    "    acc = 0\n",
    "    for i in range(len(v1)):\n",
    "        acc += (int(v1[i])-int(v2[i]))**2\n",
    "    return (acc)**0.5\n",
    "    "
   ]
  },
  {
   "cell_type": "code",
   "execution_count": 22,
   "id": "f5160070",
   "metadata": {},
   "outputs": [
    {
     "name": "stdout",
     "output_type": "stream",
     "text": [
      "['', 26, 30, 32, 35]\n",
      "[26, 0.0, 3539.22, 3556.42, 3223.21]\n",
      "[30, 3539.22, 0.0, 1171.83, 2531.0]\n",
      "[32, 3556.42, 1171.83, 0.0, 2515.56]\n",
      "[35, 3223.21, 2531.0, 2515.56, 0.0]\n"
     ]
    }
   ],
   "source": [
    "vectors = [(26, None, v26),  #[(posizione, numero, [vettore784]), (...)]\n",
    "           (30, None, v30), \n",
    "           (32, None, v32), \n",
    "           (35, None, v35)]\n",
    "\n",
    "def vec(ds, pos): #giving a position it returns the corrisponding vector\n",
    "    ris = ds[pos-1][1:]\n",
    "    return ris\n",
    "\n",
    "DistMat = \\\n",
    "[['',26, 30, 32, 35],\\\n",
    " [26, 0,  0,  0,  0],\\\n",
    " [30, 0,  0,  0,  0],\\\n",
    " [32, 0,  0,  0,  0],\\\n",
    " [35, 0,  0,  0,  0]    \n",
    "]\n",
    "\n",
    "for i in range(1,5):\n",
    "    for j in range(1,5):\n",
    "        #print(len(vec(mnistDataset, DistMat[0][i])))\n",
    "        #print(len(vec(mnistDataset, DistMat[0][j])))\n",
    "        DistMat[i][j] = EuclideanDist(vec(mnistDataset, DistMat[0][i]),vec(mnistDataset, DistMat[0][j]))\n",
    "\n",
    "print(DistMat[0])\n",
    "for i in range(1,5):\n",
    "    print([round(x,2) if j>0 else x for j,x in enumerate(DistMat[i])])\n",
    "        "
   ]
  },
  {
   "cell_type": "markdown",
   "id": "f74234a6",
   "metadata": {},
   "source": [
    "**4** - Based on the distances computed in the previous step and knowing that the digits listed in Exercise 3 are (not necessarily in this order) 7; 0; 1; 1, can you assign the correct label to each of the digits of Exercise 3?"
   ]
  },
  {
   "cell_type": "markdown",
   "id": "d64bf816",
   "metadata": {},
   "source": [
    "**Solution:**\n",
    "\n",
    "Since the number in position 32 and the number in position 30 are closer to each other with respect to the other pairs.\n",
    "We assume that they are both ones.\n",
    "\n",
    "Then, since 7 is similar in shape to 1, we assume that the Euclidean distance between the positions that hold 1 and the position that hold 7 is smaller than the position that holds 0.\n",
    "So we assume that in position 35 there is a 7.\n"
   ]
  }
 ],
 "metadata": {
  "kernelspec": {
   "display_name": "ipynbDsLab",
   "language": "python",
   "name": "ipynbdslab"
  },
  "language_info": {
   "codemirror_mode": {
    "name": "ipython",
    "version": 3
   },
   "file_extension": ".py",
   "mimetype": "text/x-python",
   "name": "python",
   "nbconvert_exporter": "python",
   "pygments_lexer": "ipython3",
   "version": "3.9.13"
  }
 },
 "nbformat": 4,
 "nbformat_minor": 5
}
