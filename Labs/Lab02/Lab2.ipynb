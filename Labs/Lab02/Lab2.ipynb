{
 "cells": [
  {
   "cell_type": "markdown",
   "id": "f79b5b22",
   "metadata": {},
   "source": [
    "# LAB #2\n",
    "The purpose of this laboratory is to make you practice with the data preparation process. More specifically,you will tackle the task with tabular and textual input data, learning how to handle anomalies in the data,missing values and more."
   ]
  },
  {
   "cell_type": "markdown",
   "id": "10340a51",
   "metadata": {},
   "source": [
    "**Matplotlib availability**"
   ]
  },
  {
   "cell_type": "code",
   "execution_count": 1,
   "id": "7fd77e4f",
   "metadata": {},
   "outputs": [
    {
     "data": {
      "image/png": "[encoded data removed]",
      "text/plain": [
       "<Figure size 640x480 with 1 Axes>"
      ]
     },
     "metadata": {},
     "output_type": "display_data"
    }
   ],
   "source": [
    "from random import gauss\n",
    "import matplotlib.pyplot as plt\n",
    "l = [gauss(0, 1) for _ in range(500)]\n",
    "plt.hist(l)\n",
    "plt.title('Gaussian distribution (mu=0, sigma=1)')\n",
    "plt.show()"
   ]
  },
  {
   "cell_type": "markdown",
   "id": "b5715642",
   "metadata": {},
   "source": [
    "---\n",
    "## 1. Global Land Temperature\n",
    "This didactic version contains the formatted output files of the major cities of the globe with monthly granularity, between the years 1817 and 2012.\n",
    "\n",
    "The dataset is composed of ∼200k rows corresponding to the measurements taken the first day of the month in a given city.\n",
    "Each measurement is then described by 7 values:\n",
    "- Date, when the measurement was taken\n",
    "- AverageTemperature\n",
    "- AverageTemperatureUncertainty\n",
    "- City, from which the measurement was taken\n",
    "- Country\n",
    "- Latitude\n",
    "- Longitude"
   ]
  },
  {
   "cell_type": "code",
   "execution_count": 2,
   "id": "cd69893a",
   "metadata": {},
   "outputs": [
    {
     "name": "stdout",
     "output_type": "stream",
     "text": [
      "['Date', 'AverageTemperature', 'AverageTemperatureUncertainty', 'City', 'Country', 'Latitude', 'Longitude']\n",
      "['1849-01-01', 26.704, 1.435, 'Abidjan', \"CÃ´te D'Ivoire\", '5.63N', '3.23W']\n"
     ]
    }
   ],
   "source": [
    "#Import the csv\n",
    "import csv\n",
    "\n",
    "tempDs = [] #will be a list of lists\n",
    "\n",
    "with open (\"GLT_filtered.csv\") as f:\n",
    "    reader = csv.reader(f)\n",
    "    tempDs=list(reader)\n",
    "\n",
    "headers=tempDs[0]\n",
    "tempDs=tempDs[1:]\n",
    "for sample in tempDs:\n",
    "    if sample[1]!= '':\n",
    "        sample[1]=float(sample[1])\n",
    "    else:\n",
    "        sample[1]=None\n",
    "    \n",
    "    if sample[2]!= '':\n",
    "        sample[2]=float(sample[2])\n",
    "    else:\n",
    "        sample[2]=None   \n",
    "print(headers)\n",
    "print(tempDs[0])\n"
   ]
  },
  {
   "cell_type": "markdown",
   "id": "233593fb",
   "metadata": {},
   "source": [
    "**1 - Which feature types are there?**\n",
    "- Nominal: City, Country\n",
    "- Continous: AvergaeTemperature, AvergaeTemperatureUncertainty, Latitude, Longitude\n",
    "- Discrete: Date???"
   ]
  },
  {
   "cell_type": "markdown",
   "id": "5371657c",
   "metadata": {},
   "source": [
    "**2 - Fill missing values in the *AverageTemperature* attribute**\n",
    "\n",
    "Analyze the attribute AverageTemperature, which contains missing values. Fill any gap with the arithmetic mean among the closest antecedent and the closest successive measurements in time, taken in the same city"
   ]
  },
  {
   "cell_type": "code",
   "execution_count": 3,
   "id": "8f87755f",
   "metadata": {},
   "outputs": [
    {
     "data": {
      "text/plain": [
       "27581"
      ]
     },
     "execution_count": 3,
     "metadata": {},
     "output_type": "execute_result"
    }
   ],
   "source": [
    "# How many samples are missing the feature AvgTemp?\n",
    "len(list(filter(lambda x: x[1]==None  ,tempDs)))"
   ]
  },
  {
   "cell_type": "markdown",
   "id": "3d7e06d7",
   "metadata": {},
   "source": [
    "I create two function that apply to a dataset (a list of lists) that contains only measurements of a single city ordered by city, country and data"
   ]
  },
  {
   "cell_type": "code",
   "execution_count": 4,
   "id": "10bf425d",
   "metadata": {},
   "outputs": [],
   "source": [
    "#Given a cronological ordered list of lists that contains record\n",
    "#about only one city, fills the avgTemp of first and last list if it is\n",
    "#missing\n",
    "def adjustTails(ds):\n",
    "    k=0\n",
    "    h=len(ds)-1\n",
    "\n",
    "    while ds[0][1]==None:\n",
    "        k+=1\n",
    "        if ds[k][1]!= None:\n",
    "            ds[0][1]=ds[k][1]/2\n",
    "    \n",
    "    while ds[len(ds)-1][1]==None:\n",
    "        h-=1\n",
    "        if ds[h][1]!=None:\n",
    "            ds[len(ds)-1][1]=ds[h][1]/2"
   ]
  },
  {
   "cell_type": "code",
   "execution_count": 5,
   "id": "cab0a4b1",
   "metadata": {},
   "outputs": [],
   "source": [
    "#Given a cronological ordered list of lists that contains record\n",
    "#about only one city, fills the avgTemp of all the list (head and tail\n",
    "#excluded) if it is missing\n",
    "def fillAvgTemp(ds):\n",
    "    adjustTails(ds)\n",
    "    for i, sample in enumerate(ds):\n",
    "        if sample[1]==None:\n",
    "            prec=ds[i-1][1]\n",
    "            succ=ds[i+1][1]\n",
    "            j=0\n",
    "            while succ == None:\n",
    "                j+=1\n",
    "                succ=ds[i+1+j][1]             \n",
    "                \n",
    "            sample[1]=(prec+succ)/2"
   ]
  },
  {
   "cell_type": "markdown",
   "id": "b320115d",
   "metadata": {},
   "source": [
    "This code below divdes the dataset by city: each element of the outer list is a list that contains only measurements related to a single city"
   ]
  },
  {
   "cell_type": "code",
   "execution_count": 6,
   "id": "69cd55d0",
   "metadata": {},
   "outputs": [],
   "source": [
    "#I assume that the tempDs is already ordered by city, country and data\n",
    "#Create a list(whole ds) of lists(a single city) of lists(measures of that city)\n",
    "#[ [ [], [], [] ], [ [], [],[]] ]\n",
    "currentCity = tempDs[0][3]\n",
    "currentCounty = tempDs[0][4]\n",
    "listOfListsSingleCity=[]\n",
    "listSingleCity=[]\n",
    "\n",
    "for row in tempDs:\n",
    "    if row[3]==currentCity and row[4]==currentCounty:\n",
    "        listSingleCity.append(row)\n",
    "    else:\n",
    "        listOfListsSingleCity.append(listSingleCity)\n",
    "        currentCity = row[3]\n",
    "        currentCounty = row[4]\n",
    "        listSingleCity=[]\n",
    "        listSingleCity.append(row)\n",
    "#I manage the last city since it does not go through the last else\n",
    "listOfListsSingleCity.append(listSingleCity)\n",
    "\n",
    "#print(listOfListsSingleCity[-1][:5])"
   ]
  },
  {
   "cell_type": "code",
   "execution_count": 7,
   "id": "79255d91",
   "metadata": {},
   "outputs": [],
   "source": [
    "for el in listOfListsSingleCity:# el is a list of lists\n",
    "    fillAvgTemp(el)"
   ]
  },
  {
   "cell_type": "code",
   "execution_count": 8,
   "id": "f17dc024",
   "metadata": {},
   "outputs": [
    {
     "data": {
      "text/plain": [
       "0"
      ]
     },
     "execution_count": 8,
     "metadata": {},
     "output_type": "execute_result"
    }
   ],
   "source": [
    "# How many samples are missing the feature AvgTemp?\n",
    "len(list(filter(lambda x: x[1]==None  ,tempDs)))"
   ]
  },
  {
   "cell_type": "markdown",
   "id": "7fc3762d",
   "metadata": {},
   "source": [
    "**3 - Hottest and Coldest**\n",
    "Define a function that, given the name of a city and an integer N > 0, prints:\n",
    "1. the top N hottest measurements;\n",
    "2. the top N coldest measurements."
   ]
  },
  {
   "cell_type": "code",
   "execution_count": 9,
   "id": "ed434c66",
   "metadata": {},
   "outputs": [],
   "source": [
    "#return a list of ordered lists with the right city\n",
    "def rightCityAndSorted(ds,cityName):\n",
    "    rightCity=[l for l in ds if l[3]==cityName]#filter on the right city\n",
    "    if len(rightCity)==0:\n",
    "        print(f\"{cityName} is not in the dataset\")\n",
    "        return None\n",
    "    return sorted(rightCity, key=lambda x : x[1])#order by avg temperature"
   ]
  },
  {
   "cell_type": "code",
   "execution_count": 10,
   "id": "a14a2277",
   "metadata": {},
   "outputs": [],
   "source": [
    "#given a ds (list of lists) return the top N and last N\n",
    "def nHottestAndColdest(ds, cityName ,N):\n",
    "    l = rightCityAndSorted(ds,cityName)\n",
    "    if l == None:\n",
    "        return\n",
    "    if N <= 0:\n",
    "        print(\"N cannot be <= 0\")\n",
    "        return\n",
    "    coldest = l[:N]\n",
    "    hottest = l[-N:][::-1]#takes last N and reverses it\n",
    "    print(f'Top {N} hottest:')\n",
    "    for el in hottest:\n",
    "        print(f'{el[1]:.2f}')\n",
    "    print(f'\\nTop {N} coldest:')\n",
    "    for el in coldest:\n",
    "        print(f'{el[1]:.2f}')"
   ]
  },
  {
   "cell_type": "code",
   "execution_count": 11,
   "id": "494a1b51",
   "metadata": {},
   "outputs": [
    {
     "name": "stdout",
     "output_type": "stream",
     "text": [
      "Top 2 hottest:\n",
      "25.95\n",
      "25.00\n",
      "\n",
      "Top 2 coldest:\n",
      "-1.44\n",
      "-1.30\n"
     ]
    }
   ],
   "source": [
    "nHottestAndColdest(tempDs, 'Rome',2)"
   ]
  },
  {
   "cell_type": "markdown",
   "id": "464fa1e8",
   "metadata": {},
   "source": [
    "_____\n",
    "## 2. Textual data preparation on IMDB reviews\n",
    "This exercise is meant to get you acquainted with the preprocessing of textual data.\n",
    "\n",
    "Let’s imagine the IMDb platform wants an automatic procedure to assign a numerical value to a user review, based of the content of the text, to identify the rate he or she would have given to the movie. Simplifying the task, you might want to assign a label, Positive or Negative, to identify the overall sentiment, i.e. whether the user liked the movie or not. To do so, you will implement the TF-IDF weighting scheme on IMDb reviews. Then, you will compute the distance between a review whose sentiment is unknown and the two sets of positive and negative comments, assigning the sentiment of the closest one among the two."
   ]
  },
  {
   "cell_type": "markdown",
   "id": "31b04fa1",
   "metadata": {},
   "source": [
    "**1 - Load the IMDb dataset as a list of lists**"
   ]
  },
  {
   "cell_type": "code",
   "execution_count": 12,
   "id": "ad65f067",
   "metadata": {},
   "outputs": [],
   "source": [
    "import csv\n",
    "\n",
    "IMDBbDs=[]\n",
    "\n",
    "with open(\"aclimdb_reviews_train.txt\", encoding='utf-8') as f:\n",
    "    reader = csv.reader(f, delimiter=',')\n",
    "    IMDBbDs=list(reader) \n",
    "headers=IMDBbDs[0]\n",
    "IMDBbDs=IMDBbDs[1:]\n",
    "X=[x[0] for x in IMDBbDs]\n",
    "y=[x[1] for x in IMDBbDs]"
   ]
  },
  {
   "cell_type": "code",
   "execution_count": 13,
   "id": "322c39bc",
   "metadata": {},
   "outputs": [
    {
     "name": "stdout",
     "output_type": "stream",
     "text": [
      "For a movie that gets no respect there sure are a lot of memorable quotes listed for this gem. Imagine a movie where Joe Piscopo is actually funny! Maureen Stapleton is a scene stealer. The Moroni character is an absolute scream. Watch for Alan \"The Skipper\" Hale jr. as a police Sgt.\n",
      "\n",
      " 1\n"
     ]
    }
   ],
   "source": [
    "print(X[0])\n",
    "print('\\n', y[0])"
   ]
  },
  {
   "cell_type": "markdown",
   "id": "d4af71b2",
   "metadata": {},
   "source": [
    "**2. Apply the tokenization function**\n",
    "\n",
    "The tokenization procedure splits each comment in tokens (i.e.\n",
    "separate words)."
   ]
  },
  {
   "cell_type": "code",
   "execution_count": 14,
   "id": "3b7a7fd7",
   "metadata": {},
   "outputs": [
    {
     "name": "stdout",
     "output_type": "stream",
     "text": [
      "['for', 'a', 'movie', 'that', 'gets', 'no', 'respect', 'there', 'sure', 'are', 'a', 'lot', 'of', 'memorable', 'quotes', 'listed', 'for', 'this', 'gem', 'imagine', 'a', 'movie', 'where', 'joe', 'piscopo', 'is', 'actually', 'funny', 'maureen', 'stapleton', 'is', 'a', 'scene', 'stealer', 'the', 'moroni', 'character', 'is', 'an', 'absolute', 'scream', 'watch', 'for', 'alan', 'the', 'skipper', 'hale', 'jr', 'as', 'a', 'police', 'sgt']\n"
     ]
    }
   ],
   "source": [
    "import string\n",
    "\n",
    "def tokenize(docs):\n",
    "    \"\"\"Compute the tokens for each document.\n",
    "    Input: a list of strings. Each item is a document to tokenize.\n",
    "    Output: a list of lists. Each item is a list containing the tokens of the\n",
    "    relative document.\n",
    "    \"\"\"\n",
    "    tokens = []\n",
    "\n",
    "    for doc in docs:\n",
    "        for punct in string.punctuation:\n",
    "            doc = doc.replace(punct, \" \")\n",
    "        split_doc = [ token.lower() for token in doc.split(\" \") if token ]\n",
    "        tokens.append(split_doc)\n",
    "    \n",
    "    return tokens\n",
    "\n",
    "lTokens = tokenize(X)\n",
    "\n",
    "#Tokens of the first document\n",
    "print(lTokens[0])"
   ]
  },
  {
   "cell_type": "markdown",
   "id": "d4d94741",
   "metadata": {},
   "source": [
    "**3 - Computation of the term frequency (TF)**\n",
    "\n",
    "Perform the computation of the term frequency (TF) of each token within its respective document. Although there exist different techniques to evaluate the frequency, we will now assume that the TF of a token t in a document d is equal to the number of occurrences of t in d.\n",
    "\n",
    "Compute the TF for all your reviews.\n",
    "\n",
    "Example of TF on a toy sentence:\n",
    "\n",
    "tokens = ['with', 'great', 'power', 'comes', 'great', 'responsibility']\n",
    "\n",
    "TF(tokens) = {'with': 1, 'great': 2, 'power': 1, 'comes': 1, 'responsibility': 1}"
   ]
  },
  {
   "cell_type": "code",
   "execution_count": 15,
   "id": "19e731f0",
   "metadata": {},
   "outputs": [
    {
     "name": "stdout",
     "output_type": "stream",
     "text": [
      "{'for': 3, 'a': 5, 'movie': 2, 'that': 1, 'gets': 1, 'no': 1, 'respect': 1, 'there': 1, 'sure': 1, 'are': 1, 'lot': 1, 'of': 1, 'memorable': 1, 'quotes': 1, 'listed': 1, 'this': 1, 'gem': 1, 'imagine': 1, 'where': 1, 'joe': 1, 'piscopo': 1, 'is': 3, 'actually': 1, 'funny': 1, 'maureen': 1, 'stapleton': 1, 'scene': 1, 'stealer': 1, 'the': 2, 'moroni': 1, 'character': 1, 'an': 1, 'absolute': 1, 'scream': 1, 'watch': 1, 'alan': 1, 'skipper': 1, 'hale': 1, 'jr': 1, 'as': 1, 'police': 1, 'sgt': 1}\n"
     ]
    }
   ],
   "source": [
    "#This function is built to test the algorithm.\n",
    "\n",
    "#tokens is a list of tokens of a single document (all the words of a single document)\n",
    "\n",
    "def TF(tokens):\n",
    "    tf = {}\n",
    "    for token in tokens:\n",
    "        if token in tf.keys():\n",
    "            tf[token]+=1\n",
    "        else:\n",
    "            tf[token]=1\n",
    "    print(tf)\n",
    "\n",
    "# Test on a single document\n",
    "TF(lTokens[0])"
   ]
  },
  {
   "cell_type": "code",
   "execution_count": 16,
   "id": "82ad07f3",
   "metadata": {},
   "outputs": [
    {
     "name": "stdout",
     "output_type": "stream",
     "text": [
      "{'for': 3, 'a': 5, 'movie': 2, 'that': 1, 'gets': 1, 'no': 1, 'respect': 1, 'there': 1, 'sure': 1, 'are': 1, 'lot': 1, 'of': 1, 'memorable': 1, 'quotes': 1, 'listed': 1, 'this': 1, 'gem': 1, 'imagine': 1, 'where': 1, 'joe': 1, 'piscopo': 1, 'is': 3, 'actually': 1, 'funny': 1, 'maureen': 1, 'stapleton': 1, 'scene': 1, 'stealer': 1, 'the': 2, 'moroni': 1, 'character': 1, 'an': 1, 'absolute': 1, 'scream': 1, 'watch': 1, 'alan': 1, 'skipper': 1, 'hale': 1, 'jr': 1, 'as': 1, 'police': 1, 'sgt': 1}\n"
     ]
    }
   ],
   "source": [
    "#For each word in the document this function count the number of occurences\n",
    "#inside that document.\n",
    "\n",
    "#lTokens is a list of lists of tokens of a single document\n",
    "#(all the words of a single document)\n",
    "    \n",
    "def lTF(lTokens):\n",
    "    lTf=[] #is a list of dict that contains the TF\n",
    "    for tokens in lTokens:\n",
    "        tf = {}     \n",
    "        for token in tokens:\n",
    "            if token in tf.keys():\n",
    "                tf[token]+=1\n",
    "            else:\n",
    "                tf[token]=1\n",
    "        lTf.append(tf)\n",
    "    return lTf\n",
    "\n",
    "TFs = lTF(lTokens)\n",
    "print(TFs[0])"
   ]
  },
  {
   "cell_type": "markdown",
   "id": "f5301221",
   "metadata": {},
   "source": [
    "**4 - Compute the inverse document frequency (IDF).**\n",
    "\n",
    "\n"
   ]
  },
  {
   "cell_type": "markdown",
   "id": "0437485f",
   "metadata": {},
   "source": [
    "(a) Compute the DF for all of your tokens"
   ]
  },
  {
   "cell_type": "code",
   "execution_count": 17,
   "id": "928efa2a",
   "metadata": {},
   "outputs": [],
   "source": [
    "#Calculate DF, takes as argument a list of lists of token\n",
    "def DF(lTokens):\n",
    "    \n",
    "    #for each document turn a list of token in a set of (unique) tokens\n",
    "    #so it removes duplicates document-wise\n",
    "    lSetTokens = [set(l) for l in lTokens]\n",
    "    \n",
    "    #set of all token present in the collection (no duplicates)\n",
    "    allTokens = set([el for s in lSetTokens for el in s])\n",
    "    \n",
    "    N = len(lTokens) #Count number of documents\n",
    "    \n",
    "    output = {} #dict {token, DFt}\n",
    "    \n",
    "    for token in allTokens:\n",
    "        DFt = 0\n",
    "        for tokens in lSetTokens:\n",
    "            if token in tokens:\n",
    "                DFt+=1\n",
    "        output[token] = DFt\n",
    "    return output\n",
    "#return a dict {token, DF}"
   ]
  },
  {
   "cell_type": "code",
   "execution_count": 18,
   "id": "7824ce11",
   "metadata": {},
   "outputs": [],
   "source": [
    "dfs = DF(lTokens)"
   ]
  },
  {
   "cell_type": "code",
   "execution_count": 19,
   "id": "e1120d2b",
   "metadata": {},
   "outputs": [
    {
     "data": {
      "text/plain": [
       "17883"
      ]
     },
     "execution_count": 19,
     "metadata": {},
     "output_type": "execute_result"
    }
   ],
   "source": [
    "dfs[\"for\"]"
   ]
  },
  {
   "cell_type": "markdown",
   "id": "85814190",
   "metadata": {},
   "source": [
    "(b) Compute the IDF for all of your tokens"
   ]
  },
  {
   "cell_type": "code",
   "execution_count": 20,
   "id": "bcd131b8",
   "metadata": {},
   "outputs": [],
   "source": [
    "#Calculate IDF, takes as argument the output of the function DF and\n",
    "#the argument of the function DF\n",
    "import math\n",
    "def IDF(dfs, lTokens): #dfs is a dict (token, DF)\n",
    "    N = len(lTokens)\n",
    "    return {k:math.log(N/v) for k,v in dfs.items()}\n",
    "#return a dict {token, IDFt}"
   ]
  },
  {
   "cell_type": "code",
   "execution_count": 21,
   "id": "be177162",
   "metadata": {},
   "outputs": [],
   "source": [
    "IDFs=IDF(dfs,lTokens)"
   ]
  },
  {
   "cell_type": "markdown",
   "id": "795b185e",
   "metadata": {},
   "source": [
    "(c) Try to sort the IDF values in ascending order. Which tokens (i.e. words) came to the top? Can you figure out why?"
   ]
  },
  {
   "cell_type": "code",
   "execution_count": 22,
   "id": "9dbfab58",
   "metadata": {},
   "outputs": [
    {
     "name": "stdout",
     "output_type": "stream",
     "text": [
      "the\n",
      "0.008314469604085238\n"
     ]
    }
   ],
   "source": [
    "#ordering the dict\n",
    "IDFs={k:v for k,v in sorted(IDFs.items(), key=lambda item: item[1])}\n",
    "print(list(IDFs.keys())[0])\n",
    "print(list(IDFs.values())[0])"
   ]
  },
  {
   "cell_type": "markdown",
   "id": "c75bd5dd",
   "metadata": {},
   "source": [
    "The word with the lowest IDF is the article \"the\" since it is very common."
   ]
  },
  {
   "cell_type": "markdown",
   "id": "ef9535cd",
   "metadata": {},
   "source": [
    "____\n",
    "Create a single function to compute IDF.\n"
   ]
  },
  {
   "cell_type": "code",
   "execution_count": 23,
   "id": "3cee10f7",
   "metadata": {},
   "outputs": [],
   "source": [
    "#Where lTokens is a list of lists of tokens of a single document \n",
    "#(all the words of a single document)\n",
    "import numpy as np\n",
    "def lIDF(lTokens):\n",
    "    lSetTokens = [set(l) for l in lTokens] # is a list of sets. Each set is a document\n",
    "    allTokens = set([el for s in lSetTokens for el in s]) #set containig all tokens across all documents\n",
    "    N = len(lTokens) #number of documents\n",
    "    \n",
    "    output = {} #dict {token, IDFt}\n",
    "    for token in allTokens:\n",
    "        DFt = 0\n",
    "        for tokens in lSetTokens:\n",
    "            if token in tokens:\n",
    "                DFt+=1\n",
    "        IDFt = np.log(N/DFt)\n",
    "        if IDFt >= 0: #change the parameter if you want to filter on the IDFt\n",
    "            output[token] = IDFt\n",
    "    return output"
   ]
  },
  {
   "cell_type": "code",
   "execution_count": 24,
   "id": "b0b61dc1",
   "metadata": {},
   "outputs": [
    {
     "name": "stdout",
     "output_type": "stream",
     "text": [
      "funzione doppia\n",
      "{'shark': 0.6931471805599453, 'comes': 0.6931471805599453, 'great': 0.6931471805599453, 'with': 0.6931471805599453, 'responsibility': 0.6931471805599453, 'power': 0.0, 'white': 0.6931471805599453}\n",
      "\n",
      "funzione singola\n",
      "{'shark': 0.6931471805599453, 'comes': 0.6931471805599453, 'great': 0.6931471805599453, 'with': 0.6931471805599453, 'responsibility': 0.6931471805599453, 'power': 0.0, 'white': 0.6931471805599453}\n",
      "prova IDF\n"
     ]
    }
   ],
   "source": [
    "#Debugging purposes\n",
    "lTokensProva = [ ['with', 'great', 'power', 'comes', 'great', 'responsibility'], ['white','shark','power']]\n",
    "print(\"funzione doppia\")\n",
    "print(IDF(DF(lTokensProva),lTokensProva))\n",
    "print()\n",
    "print(\"funzione singola\")\n",
    "print(lIDF(lTokensProva))\n",
    "diz = {'a':1,'b':2}\n",
    "print('prova IDF')\n",
    "#print(IDF(diz))"
   ]
  },
  {
   "cell_type": "markdown",
   "id": "dd5851f9",
   "metadata": {},
   "source": [
    "___"
   ]
  },
  {
   "cell_type": "markdown",
   "id": "00eaecc6",
   "metadata": {},
   "source": [
    "**5 - Compute the TF-IDF**\n",
    "Combine the definitions of term frequency (TF) and inverse document frequency (IDF), to produce a composite weight for each term in each document.The TF-IDF weighting scheme assigns to a term t a weight in the document d given by:\n",
    "$$TF-IDF_{t,d} = TF_{t,d} × IDF_t$$\n",
    "\n",
    "In other words, TF-IDFt;d assigns to term t a weight in document d that is\n",
    "- high when t occurs many times within a small number of documents;\n",
    "- low when the term occurs fewer times in a document, or occurs in many documents (thus offering a less pronounced relevance signal);\n",
    "- lowest when the term occurs in virtually all documents.\n",
    "\n",
    "*Crea una lista di dizionari (uno per ogni documento) che contengono solo le parole parole presenti in quel documento come chiave e come valore il parametro.*"
   ]
  },
  {
   "cell_type": "code",
   "execution_count": 25,
   "id": "4068bb88",
   "metadata": {},
   "outputs": [],
   "source": [
    "#TFs is a list of dict (one for each document) that contains the TFs\n",
    "#IDFs is a dict {token, IDFt}\n",
    "def TFIDF(TFs, IDFs):\n",
    "    output=[]\n",
    "    for dTFs in TFs:\n",
    "        dTFIDF = {k:v*IDFs[k] for k,v in dTFs.items()}\n",
    "        output.append(dTFIDF)\n",
    "    return output"
   ]
  },
  {
   "cell_type": "code",
   "execution_count": 26,
   "id": "f48a39d6",
   "metadata": {},
   "outputs": [],
   "source": [
    "TFIDFs = TFIDF(TFs, IDFs)"
   ]
  },
  {
   "cell_type": "code",
   "execution_count": 27,
   "id": "bb8ab780",
   "metadata": {},
   "outputs": [
    {
     "name": "stdout",
     "output_type": "stream",
     "text": [
      "{'for': 1.005075851886905, 'a': 0.16757709668908488, 'movie': 0.9813925049416498, 'that': 0.20722099077039452, 'gets': 2.257229391273248, 'no': 1.1141321003261466, 'respect': 3.9845936982629815, 'there': 0.837387134278689, 'sure': 2.3530366364901436, 'are': 0.5868431101899066, 'lot': 2.0319474551515233, 'of': 0.05226218466281087, 'memorable': 3.6936910111111585, 'quotes': 5.5940316106970815, 'listed': 5.339139361068292, 'this': 0.09924591465797242, 'gem': 4.291820366787733, 'imagine': 3.587045148232668, 'where': 1.655900786844441, 'joe': 4.137669686960474, 'piscopo': 7.418580902748128, 'is': 0.3258307041721464, 'actually': 1.982532640511814, 'funny': 2.0743346043116913, 'maureen': 6.437751649736401, 'stapleton': 7.561681746388801, 'scene': 1.8767946184246356, 'stealer': 7.487573774235079, 'the': 0.016628939208170476, 'moroni': 8.740336742730447, 'character': 1.641547966352334, 'an': 0.7166205367455873, 'absolute': 4.315490110873637, 'scream': 4.706096104578052, 'watch': 1.5199629060064976, 'alan': 4.625372893305611, 'skipper': 7.929406526514119, 'hale': 6.515713191206113, 'jr': 4.5932416151228175, 'as': 0.4389391649658812, 'police': 3.460947386067929, 'sgt': 6.4630694577206915}\n",
      "\n",
      "Token with highest TFIDF:\n",
      "moroni : 8.740336742730447\n"
     ]
    }
   ],
   "source": [
    "#Test\n",
    "print(TFIDFs[0])\n",
    "a={k:v for k,v in sorted(TFIDFs[0].items(), key=lambda item: item[1],reverse = True)}\n",
    "print()\n",
    "print(\"Token with highest TFIDF:\")\n",
    "print(list(a.keys())[0],\":\", list(a.values())[0])\n"
   ]
  },
  {
   "cell_type": "code",
   "execution_count": null,
   "id": "c403af3d",
   "metadata": {},
   "outputs": [],
   "source": []
  }
 ],
 "metadata": {
  "kernelspec": {
   "display_name": "Python [conda env:dslab]",
   "language": "python",
   "name": "conda-env-dslab-py"
  },
  "language_info": {
   "codemirror_mode": {
    "name": "ipython",
    "version": 3
   },
   "file_extension": ".py",
   "mimetype": "text/x-python",
   "name": "python",
   "nbconvert_exporter": "python",
   "pygments_lexer": "ipython3",
   "version": "3.9.13"
  }
 },
 "nbformat": 4,
 "nbformat_minor": 5
}
