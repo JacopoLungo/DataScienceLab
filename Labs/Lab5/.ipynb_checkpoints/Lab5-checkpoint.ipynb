{
 "cells": [
  {
   "cell_type": "code",
   "execution_count": 1,
   "id": "3f4c00b9",
   "metadata": {},
   "outputs": [],
   "source": [
    "import pandas as pd"
   ]
  },
  {
   "cell_type": "markdown",
   "id": "b295c5c5",
   "metadata": {},
   "source": [
    "**(1)**"
   ]
  },
  {
   "cell_type": "code",
   "execution_count": 2,
   "id": "752d01bf",
   "metadata": {},
   "outputs": [
    {
     "data": {
      "text/html": [
       "<div>\n",
       "<style scoped>\n",
       "    .dataframe tbody tr th:only-of-type {\n",
       "        vertical-align: middle;\n",
       "    }\n",
       "\n",
       "    .dataframe tbody tr th {\n",
       "        vertical-align: top;\n",
       "    }\n",
       "\n",
       "    .dataframe thead th {\n",
       "        text-align: right;\n",
       "    }\n",
       "</style>\n",
       "<table border=\"1\" class=\"dataframe\">\n",
       "  <thead>\n",
       "    <tr style=\"text-align: right;\">\n",
       "      <th></th>\n",
       "      <th>@id</th>\n",
       "      <th>@type</th>\n",
       "      <th>@lat</th>\n",
       "      <th>@lon</th>\n",
       "      <th>amenity</th>\n",
       "      <th>name</th>\n",
       "      <th>shop</th>\n",
       "      <th>public_transport</th>\n",
       "      <th>highway</th>\n",
       "    </tr>\n",
       "  </thead>\n",
       "  <tbody>\n",
       "    <tr>\n",
       "      <th>0</th>\n",
       "      <td>42432939</td>\n",
       "      <td>node</td>\n",
       "      <td>40.814104</td>\n",
       "      <td>-73.949623</td>\n",
       "      <td>NaN</td>\n",
       "      <td>NaN</td>\n",
       "      <td>NaN</td>\n",
       "      <td>stop_position</td>\n",
       "      <td>NaN</td>\n",
       "    </tr>\n",
       "    <tr>\n",
       "      <th>1</th>\n",
       "      <td>42448838</td>\n",
       "      <td>node</td>\n",
       "      <td>40.761647</td>\n",
       "      <td>-73.949864</td>\n",
       "      <td>NaN</td>\n",
       "      <td>NaN</td>\n",
       "      <td>NaN</td>\n",
       "      <td>stop_position</td>\n",
       "      <td>NaN</td>\n",
       "    </tr>\n",
       "    <tr>\n",
       "      <th>2</th>\n",
       "      <td>42723103</td>\n",
       "      <td>node</td>\n",
       "      <td>40.852182</td>\n",
       "      <td>-73.772677</td>\n",
       "      <td>ferry_terminal</td>\n",
       "      <td>Hart Island Ferry Terminal</td>\n",
       "      <td>NaN</td>\n",
       "      <td>NaN</td>\n",
       "      <td>NaN</td>\n",
       "    </tr>\n",
       "    <tr>\n",
       "      <th>3</th>\n",
       "      <td>42764076</td>\n",
       "      <td>node</td>\n",
       "      <td>40.867164</td>\n",
       "      <td>-73.882158</td>\n",
       "      <td>NaN</td>\n",
       "      <td>Botanical Garden</td>\n",
       "      <td>NaN</td>\n",
       "      <td>stop_position</td>\n",
       "      <td>NaN</td>\n",
       "    </tr>\n",
       "    <tr>\n",
       "      <th>4</th>\n",
       "      <td>42811266</td>\n",
       "      <td>node</td>\n",
       "      <td>40.704806</td>\n",
       "      <td>-73.772734</td>\n",
       "      <td>NaN</td>\n",
       "      <td>NaN</td>\n",
       "      <td>NaN</td>\n",
       "      <td>stop_position</td>\n",
       "      <td>NaN</td>\n",
       "    </tr>\n",
       "    <tr>\n",
       "      <th>...</th>\n",
       "      <td>...</td>\n",
       "      <td>...</td>\n",
       "      <td>...</td>\n",
       "      <td>...</td>\n",
       "      <td>...</td>\n",
       "      <td>...</td>\n",
       "      <td>...</td>\n",
       "      <td>...</td>\n",
       "      <td>...</td>\n",
       "    </tr>\n",
       "    <tr>\n",
       "      <th>53545</th>\n",
       "      <td>2553096114</td>\n",
       "      <td>node</td>\n",
       "      <td>40.736006</td>\n",
       "      <td>-73.713202</td>\n",
       "      <td>NaN</td>\n",
       "      <td>NaN</td>\n",
       "      <td>NaN</td>\n",
       "      <td>NaN</td>\n",
       "      <td>NaN</td>\n",
       "    </tr>\n",
       "    <tr>\n",
       "      <th>53546</th>\n",
       "      <td>2553096138</td>\n",
       "      <td>node</td>\n",
       "      <td>40.736020</td>\n",
       "      <td>-73.713063</td>\n",
       "      <td>NaN</td>\n",
       "      <td>NaN</td>\n",
       "      <td>NaN</td>\n",
       "      <td>NaN</td>\n",
       "      <td>NaN</td>\n",
       "    </tr>\n",
       "    <tr>\n",
       "      <th>53547</th>\n",
       "      <td>2553096143</td>\n",
       "      <td>node</td>\n",
       "      <td>40.736024</td>\n",
       "      <td>-73.713047</td>\n",
       "      <td>NaN</td>\n",
       "      <td>NaN</td>\n",
       "      <td>NaN</td>\n",
       "      <td>NaN</td>\n",
       "      <td>NaN</td>\n",
       "    </tr>\n",
       "    <tr>\n",
       "      <th>53548</th>\n",
       "      <td>2553096154</td>\n",
       "      <td>node</td>\n",
       "      <td>40.736030</td>\n",
       "      <td>-73.713089</td>\n",
       "      <td>NaN</td>\n",
       "      <td>NaN</td>\n",
       "      <td>NaN</td>\n",
       "      <td>NaN</td>\n",
       "      <td>NaN</td>\n",
       "    </tr>\n",
       "    <tr>\n",
       "      <th>53549</th>\n",
       "      <td>6146672068</td>\n",
       "      <td>node</td>\n",
       "      <td>40.735901</td>\n",
       "      <td>-73.713000</td>\n",
       "      <td>NaN</td>\n",
       "      <td>NaN</td>\n",
       "      <td>NaN</td>\n",
       "      <td>NaN</td>\n",
       "      <td>NaN</td>\n",
       "    </tr>\n",
       "  </tbody>\n",
       "</table>\n",
       "<p>53550 rows × 9 columns</p>\n",
       "</div>"
      ],
      "text/plain": [
       "              @id @type       @lat       @lon         amenity  \\\n",
       "0        42432939  node  40.814104 -73.949623             NaN   \n",
       "1        42448838  node  40.761647 -73.949864             NaN   \n",
       "2        42723103  node  40.852182 -73.772677  ferry_terminal   \n",
       "3        42764076  node  40.867164 -73.882158             NaN   \n",
       "4        42811266  node  40.704806 -73.772734             NaN   \n",
       "...           ...   ...        ...        ...             ...   \n",
       "53545  2553096114  node  40.736006 -73.713202             NaN   \n",
       "53546  2553096138  node  40.736020 -73.713063             NaN   \n",
       "53547  2553096143  node  40.736024 -73.713047             NaN   \n",
       "53548  2553096154  node  40.736030 -73.713089             NaN   \n",
       "53549  6146672068  node  40.735901 -73.713000             NaN   \n",
       "\n",
       "                             name shop public_transport highway  \n",
       "0                             NaN  NaN    stop_position     NaN  \n",
       "1                             NaN  NaN    stop_position     NaN  \n",
       "2      Hart Island Ferry Terminal  NaN              NaN     NaN  \n",
       "3                Botanical Garden  NaN    stop_position     NaN  \n",
       "4                             NaN  NaN    stop_position     NaN  \n",
       "...                           ...  ...              ...     ...  \n",
       "53545                         NaN  NaN              NaN     NaN  \n",
       "53546                         NaN  NaN              NaN     NaN  \n",
       "53547                         NaN  NaN              NaN     NaN  \n",
       "53548                         NaN  NaN              NaN     NaN  \n",
       "53549                         NaN  NaN              NaN     NaN  \n",
       "\n",
       "[53550 rows x 9 columns]"
      ]
     },
     "execution_count": 2,
     "metadata": {},
     "output_type": "execute_result"
    }
   ],
   "source": [
    "#import main file of poi\n",
    "df = pd.read_csv('pois_all_info', sep = '\\t', low_memory=False)\n",
    "\n",
    "#import file for the poi of NYC\n",
    "nyPOI = pd.read_csv('ny_municipality_pois_id.csv', names = ['@id'])\n",
    "\n",
    "#keep only poi of NYC by comparing the two files\n",
    "df = pd.merge(df,nyPOI)\n",
    "df"
   ]
  },
  {
   "cell_type": "markdown",
   "id": "85f48953",
   "metadata": {},
   "source": [
    "**(2)** Count the number of missing values for each column"
   ]
  },
  {
   "cell_type": "code",
   "execution_count": 3,
   "id": "2134e87d",
   "metadata": {},
   "outputs": [
    {
     "data": {
      "text/plain": [
       "@id                     0\n",
       "@type                   0\n",
       "@lat                    0\n",
       "@lon                    0\n",
       "amenity             28838\n",
       "name                23000\n",
       "shop                44833\n",
       "public_transport    45174\n",
       "highway             45991\n",
       "dtype: int64"
      ]
     },
     "execution_count": 3,
     "metadata": {},
     "output_type": "execute_result"
    }
   ],
   "source": [
    "df.isnull().sum()"
   ]
  },
  {
   "cell_type": "code",
   "execution_count": 4,
   "id": "176c0fdc",
   "metadata": {},
   "outputs": [
    {
     "data": {
      "text/plain": [
       "20.0     2\n",
       "350.0    1\n",
       "390.0    1\n",
       "dtype: int64"
      ]
     },
     "execution_count": 4,
     "metadata": {},
     "output_type": "execute_result"
    }
   ],
   "source": [
    "ser = pd.Series([390., 350., 20., 20.], )\n",
    "ser.groupby(ser).size()"
   ]
  },
  {
   "cell_type": "code",
   "execution_count": 5,
   "id": "ca9f13a8",
   "metadata": {},
   "outputs": [
    {
     "name": "stdout",
     "output_type": "stream",
     "text": [
      "8717\n",
      "38\n"
     ]
    },
    {
     "data": {
      "text/plain": [
       "shop\n",
       "convenience              841\n",
       "clothes                  811\n",
       "supermarket              555\n",
       "hairdresser              487\n",
       "deli                     462\n",
       "beauty                   422\n",
       "alcohol                  408\n",
       "laundry                  380\n",
       "bakery                   322\n",
       "mobile_phone             244\n",
       "dry_cleaning             227\n",
       "gift                     154\n",
       "car_repair               153\n",
       "shoes                    152\n",
       "variety_store            113\n",
       "optician                 110\n",
       "books                    107\n",
       "furniture                105\n",
       "bicycle                   99\n",
       "jewelry                   97\n",
       "department_store          94\n",
       "cosmetics                 88\n",
       "hardware                  83\n",
       "florist                   78\n",
       "yes                       78\n",
       "pet                       75\n",
       "butcher                   67\n",
       "massage                   65\n",
       "greengrocer               60\n",
       "car                       57\n",
       "electronics               57\n",
       "chemist                   53\n",
       "toys                      52\n",
       "confectionery             51\n",
       "nutrition_supplements     49\n",
       "sports                    49\n",
       "tobacco                   44\n",
       "tattoo                    43\n",
       "Name: shop, dtype: int64"
      ]
     },
     "execution_count": 5,
     "metadata": {},
     "output_type": "execute_result"
    }
   ],
   "source": [
    "perc = 0.2\n",
    "print(len(df['shop'].dropna()))\n",
    "topk = round(len(df['shop'].dropna().unique())*perc)\n",
    "print(topk)\n",
    "df['shop'].groupby(df['shop']).size().sort_values(ascending = False).iloc[:topk]"
   ]
  },
  {
   "cell_type": "code",
   "execution_count": 6,
   "id": "2a3fd975",
   "metadata": {},
   "outputs": [
    {
     "data": {
      "text/plain": [
       "191"
      ]
     },
     "execution_count": 6,
     "metadata": {},
     "output_type": "execute_result"
    }
   ],
   "source": [
    "len(df['shop'].dropna().unique())"
   ]
  }
 ],
 "metadata": {
  "kernelspec": {
   "display_name": "Python [conda env:dslab]",
   "language": "python",
   "name": "conda-env-dslab-py"
  },
  "language_info": {
   "codemirror_mode": {
    "name": "ipython",
    "version": 3
   },
   "file_extension": ".py",
   "mimetype": "text/x-python",
   "name": "python",
   "nbconvert_exporter": "python",
   "pygments_lexer": "ipython3",
   "version": "3.9.13"
  }
 },
 "nbformat": 4,
 "nbformat_minor": 5
}
