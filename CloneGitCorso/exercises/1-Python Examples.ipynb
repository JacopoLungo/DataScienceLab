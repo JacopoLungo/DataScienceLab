{
 "cells": [
  {
   "cell_type": "markdown",
   "metadata": {},
   "source": [
    "# Python Examples\n",
    "## 1) Removing list duplicates"
   ]
  },
  {
   "cell_type": "code",
   "execution_count": 1,
   "metadata": {},
   "outputs": [
    {
     "data": {
      "text/plain": [
       "[0, 1, 2, 3, 4, 5, 6]"
      ]
     },
     "execution_count": 1,
     "metadata": {},
     "output_type": "execute_result"
    }
   ],
   "source": [
    "lista = [0,1,2,3,3,3,4,5,6]\n",
    "tmpSet = set(lista)\n",
    "final = list(tmpSet)\n",
    "final"
   ]
  },
  {
   "cell_type": "markdown",
   "metadata": {},
   "source": [
    "## 2) Euclidean distance between lists"
   ]
  },
  {
   "cell_type": "code",
   "execution_count": 2,
   "metadata": {},
   "outputs": [
    {
     "data": {
      "text/plain": [
       "3.0"
      ]
     },
     "execution_count": 2,
     "metadata": {},
     "output_type": "execute_result"
    }
   ],
   "source": [
    "def EuclideanDistance(p1, p2):\n",
    "        acc = 0\n",
    "        for c1,c2 in zip(p1,p2):\n",
    "            acc += (c1-c2)**2\n",
    "        return acc**0.5\n",
    "\n",
    "x, y = [1,2,3], [2,4,5]\n",
    "EuclideanDistance(x,y)"
   ]
  },
  {
   "cell_type": "markdown",
   "metadata": {},
   "source": [
    "## 3) Classes and lambda functions: rule-based classifier\n",
    "Write a rule based classifier that allows classifying samples based on rules provided by the user.\n",
    "- Each **sample** to be classified is a **dictionary**.\n",
    "- **Rules** specify the output class that should be assigned to the sample based on its dictionary fields\n",
    "- The classifier can take as input **more than one rule**\n",
    "- It should also request with its constructor a **default class** that is assigned when none of the rules apply to the sample\n",
    "\n",
    "**Example of sample:**\n",
    "my_sample = {'temperature' : 20, 'humidity' : 0.8}\n",
    "\n",
    "**Example of rule:**\n",
    "if temperature > 5 and humidity > 0.7 then class = 'Rainy'\n",
    "\n",
    "**Apply the classifier:**\n",
    "my_classifer.classify(my_sample)\n"
   ]
  },
  {
   "cell_type": "code",
   "execution_count": 3,
   "metadata": {},
   "outputs": [],
   "source": [
    "class Rule:\n",
    "    \n",
    "    rule= None\n",
    "    predClass = None\n",
    "    \n",
    "    def __init__(self, rule, prediction):\n",
    "        self.rule = rule\n",
    "        self.prediction = prediction\n",
    "\n",
    "\n",
    "class RuleClassifier:\n",
    "    \n",
    "    defaultClass = None\n",
    "    classes=[]\n",
    "    \n",
    "    def __init__(self, defaultClass):\n",
    "        self.defaultClass = defaultClass\n",
    "    def add_rule(self, rule, prediction):\n",
    "        classe = Rule(rule, prediction)\n",
    "        self.classes.append(classe)\n",
    "    \n",
    "    def classify(self, sample):\n",
    "        for classe in self.classes:\n",
    "            if (classe.rule)(sample):\n",
    "                return classe.prediction\n",
    "        return self.defaultClass\n",
    "            "
   ]
  },
  {
   "cell_type": "markdown",
   "metadata": {},
   "source": [
    "**Example of creation and execution of the classifier:**"
   ]
  },
  {
   "cell_type": "code",
   "execution_count": 4,
   "metadata": {},
   "outputs": [
    {
     "name": "stdout",
     "output_type": "stream",
     "text": [
      "Sunny\n",
      "Rainy\n"
     ]
    }
   ],
   "source": [
    "# Creation\n",
    "rule_clf = RuleClassifier('Sunny')\n",
    "\n",
    "# Add rules\n",
    "rule_clf.add_rule(lambda x: x['temperature']>5 and x['humidity']>0.7, 'Rainy')\n",
    "rule_clf.add_rule(lambda x: x['temperature']<5 and x['humidity']>0.7, 'Snowy')\n",
    "rule_clf.add_rule(lambda x: x['temperature']>25 and x['humidity']>0.8, 'Foggy')\n",
    "\n",
    "# Perform classification\n",
    "print(rule_clf.classify({'temperature' : 30, 'humidity' : 0.4}))\n",
    "print(rule_clf.classify({'temperature' : 15, 'humidity' : 0.8}))"
   ]
  },
  {
   "cell_type": "markdown",
   "metadata": {},
   "source": [
    "## 4) Classes and exception handling: reading csv files\n",
    "Implement a class that reads a csv file with header and allows accessing data by column."
   ]
  },
  {
   "cell_type": "code",
   "execution_count": 5,
   "metadata": {},
   "outputs": [],
   "source": [
    "class Table:\n",
    "    def __init__(self, file_path):\n",
    "        # Step 1: {'ID': [], 'Name': [] ... }\n",
    "        # Step 2: {'ID': ['1', '2', '3'], 'Name': ['John', 'Alicia', 'Sam'] ... }\n",
    "        \n",
    "        with open(file_path, 'r') as f:\n",
    "            header = f.readline().strip().split(',')\n",
    "            \n",
    "            # Initialize the dictionary self.__columns\n",
    "            self.__columns = {title : [] for title in header}\n",
    "\n",
    "            # Read lines\n",
    "            for line in f:\n",
    "                rigaLista = line.strip().split(',')\n",
    "                for titolo, valore in zip(header, rigaLista):\n",
    "                    self.__columns[titolo].append(valore)   \n",
    "    \n",
    "    def get_column(self, column_name):\n",
    "        return f\"{column_name}: {self.__columns[column_name]}\"\n",
    "        return self.__columns[column_name]"
   ]
  },
  {
   "cell_type": "code",
   "execution_count": 6,
   "metadata": {},
   "outputs": [
    {
     "name": "stdout",
     "output_type": "stream",
     "text": [
      "Name: ['John', 'Alicia', 'Sam']\n"
     ]
    }
   ],
   "source": [
    "try:\n",
    "    table = Table('./TableExample.csv')\n",
    "    print(table.get_column('Name'))\n",
    "except:\n",
    "    print(\"Error while loading table\")"
   ]
  }
 ],
 "metadata": {
  "kernelspec": {
   "display_name": "ipynbDsLab",
   "language": "python",
   "name": "ipynbdslab"
  },
  "language_info": {
   "codemirror_mode": {
    "name": "ipython",
    "version": 3
   },
   "file_extension": ".py",
   "mimetype": "text/x-python",
   "name": "python",
   "nbconvert_exporter": "python",
   "pygments_lexer": "ipython3",
   "version": "3.9.13"
  }
 },
 "nbformat": 4,
 "nbformat_minor": 2
}
