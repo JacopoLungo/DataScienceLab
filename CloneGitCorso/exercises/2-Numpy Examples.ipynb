{
 "cells": [
  {
   "cell_type": "markdown",
   "metadata": {},
   "source": [
    "# Numpy Examples"
   ]
  },
  {
   "cell_type": "markdown",
   "metadata": {},
   "source": [
    "## 1) Computation with arrays"
   ]
  },
  {
   "cell_type": "markdown",
   "metadata": {},
   "source": [
    "### a) Sigmoid activation function of a vector"
   ]
  },
  {
   "cell_type": "code",
   "execution_count": 1,
   "metadata": {},
   "outputs": [
    {
     "name": "stderr",
     "output_type": "stream",
     "text": [
      "C:\\Users\\jacop\\miniconda3\\envs\\dslab\\lib\\site-packages\\ipykernel\\parentpoller.py:110: UserWarning: Parent poll failed.  If the frontend dies,\n",
      "                the kernel may be left running.  Please let us know\n",
      "                about your system (bitness, Python, etc.) at\n",
      "                ipython-dev@scipy.org\n",
      "  warnings.warn(\n"
     ]
    }
   ],
   "source": [
    "import numpy as np\n",
    "x = np.array([4, -1, 7, 9, 3, -5])"
   ]
  },
  {
   "cell_type": "markdown",
   "metadata": {},
   "source": [
    "**Apply the Sigmoid activation function: $y = sigmoid(x)$**\n",
    "$$sigmoid(x_i) = \\frac{1}{1+exp(-x_i)}$$\n",
    "<img src='./sigmoid.png' width='40%'>"
   ]
  },
  {
   "cell_type": "code",
   "execution_count": 2,
   "metadata": {},
   "outputs": [
    {
     "data": {
      "text/plain": [
       "array([0.98201379, 0.26894142, 0.99908895, 0.99987661, 0.95257413,\n",
       "       0.00669285])"
      ]
     },
     "execution_count": 2,
     "metadata": {},
     "output_type": "execute_result"
    }
   ],
   "source": [
    "def sigmoid(x):\n",
    "    return 1 / (1 + np.exp(-x))\n",
    "\n",
    "sigmoid(x)"
   ]
  },
  {
   "cell_type": "markdown",
   "metadata": {},
   "source": [
    "### b) Softmax activation function\n",
    "\n",
    "Activation function that normalizes the input vector (z) to a discrete probability distribution (values of the result add to 1).\n",
    "\n",
    "$$y_i = \\frac{exp(x_i)}{\\sum_j{exp(x_j)}}$$"
   ]
  },
  {
   "cell_type": "code",
   "execution_count": 3,
   "metadata": {},
   "outputs": [
    {
     "data": {
      "text/plain": [
       "0.005886735552643246"
      ]
     },
     "execution_count": 3,
     "metadata": {},
     "output_type": "execute_result"
    }
   ],
   "source": [
    "def SoftMax(x):\n",
    "    return np.exp(x)/np.sum(np.exp(x))\n",
    "#uguale a \n",
    "np.exp(x[0])/np.sum(np.exp(x))"
   ]
  },
  {
   "cell_type": "code",
   "execution_count": 4,
   "metadata": {},
   "outputs": [
    {
     "data": {
      "text/plain": [
       "array([5.88673555e-03, 3.96645122e-05, 1.18238244e-01, 8.73669020e-01,\n",
       "       2.16560899e-03, 7.26480881e-07])"
      ]
     },
     "execution_count": 4,
     "metadata": {},
     "output_type": "execute_result"
    }
   ],
   "source": [
    "SoftMax(x)"
   ]
  },
  {
   "cell_type": "markdown",
   "metadata": {},
   "source": [
    "## 2) Broadcasting: dataset normalization"
   ]
  },
  {
   "cell_type": "code",
   "execution_count": 5,
   "metadata": {},
   "outputs": [],
   "source": [
    "# Input table\n",
    "n_samples = 100\n",
    "n_columns = 5\n",
    "mean = 1\n",
    "std = 3\n",
    "X = np.random.normal(mean, std, (n_samples, n_columns))"
   ]
  },
  {
   "cell_type": "markdown",
   "metadata": {},
   "source": [
    "**Apply z-score: normalize each column by subtracting its mean and dividing by its standard deviation**"
   ]
  },
  {
   "cell_type": "code",
   "execution_count": 6,
   "metadata": {
    "scrolled": true
   },
   "outputs": [],
   "source": [
    "def zNormColumnWise(x):\n",
    "    meanCol = x.mean(axis=0)\n",
    "    stdCol = x.std(axis=0)\n",
    "    return (x-meanCol)/stdCol"
   ]
  },
  {
   "cell_type": "code",
   "execution_count": 7,
   "metadata": {},
   "outputs": [],
   "source": [
    "Xnorm = zNormColumnWise(X)"
   ]
  },
  {
   "cell_type": "code",
   "execution_count": 8,
   "metadata": {},
   "outputs": [
    {
     "name": "stdout",
     "output_type": "stream",
     "text": [
      "(2, 3)\n",
      "[[ 6  3  7]\n",
      " [ 2 10  9]]\n",
      "(3,)\n",
      "[2 5 1]\n",
      "x-y\n",
      "[[ 4 -2  6]\n",
      " [ 0  5  8]]\n",
      "x/y\n",
      "[[3.  0.6 7. ]\n",
      " [1.  2.  9. ]]\n"
     ]
    }
   ],
   "source": [
    "#Blocco di test\n",
    "x = np.array([[6,3,7],[2,10,9]])\n",
    "print(x.shape)\n",
    "print(x)\n",
    "y = np.array([2,5,1])\n",
    "print(y.shape)\n",
    "print(y)\n",
    "print(\"x-y\")\n",
    "print(x-y)\n",
    "print(\"x/y\")\n",
    "print(x/y)"
   ]
  },
  {
   "cell_type": "markdown",
   "metadata": {},
   "source": [
    "## 3) Accessing Numpy Arrays"
   ]
  },
  {
   "cell_type": "code",
   "execution_count": 10,
   "metadata": {},
   "outputs": [],
   "source": [
    "#Input data\n",
    "import numpy as np\n",
    "\n",
    "# Input table (12 samples x 4 attributes)\n",
    "X = np.array([[5.1, 3.5, 1.4, 0.2],\n",
    "           [4.3, 3. , 1.1, 0.1],\n",
    "           [5. , 3.4, 1.6, 0.4],\n",
    "           [5.1, 3.4, 1.5, 0.2],\n",
    "           [6.9, 3.1, 4.9, 1.5],\n",
    "           [6.7, 3.1, 4.4, 1.4],\n",
    "           [6. , 2.9, 4.5, 1.5],\n",
    "           [6.1, 3. , 4.6, 1.4],\n",
    "           [6.5, 3. , 5.8, 2.2],\n",
    "           [7.7, 3.8, 6.7, 2.2],\n",
    "           [7.4, 2.8, 6.1, 1.9],\n",
    "           [6.8, 3.2, 5.9, 2.3]])\n",
    "# Column names\n",
    "columns = ['height','width','intensity','weight']\n",
    "\n",
    "# Class label of each sample\n",
    "labels = np.array([0, 0, 0, 0, 1, 1, 1, 1, 2, 2, 0, 2])"
   ]
  },
  {
   "cell_type": "code",
   "execution_count": 18,
   "metadata": {},
   "outputs": [],
   "source": [
    "# Get column indices\n",
    "height_i = columns.index('height')\n",
    "intensity_i = columns.index('intensity')"
   ]
  },
  {
   "cell_type": "markdown",
   "metadata": {},
   "source": [
    "**Compute the average height:**"
   ]
  },
  {
   "cell_type": "code",
   "execution_count": 20,
   "metadata": {},
   "outputs": [
    {
     "data": {
      "text/plain": [
       "6.133333333333334"
      ]
     },
     "execution_count": 20,
     "metadata": {},
     "output_type": "execute_result"
    }
   ],
   "source": [
    "avg_height = X[:,height_i].mean()\n",
    "avg_height"
   ]
  },
  {
   "cell_type": "markdown",
   "metadata": {},
   "source": [
    "**Compute the average height of samples with intensity greater than 5:**"
   ]
  },
  {
   "cell_type": "code",
   "execution_count": 23,
   "metadata": {
    "scrolled": true
   },
   "outputs": [
    {
     "data": {
      "text/plain": [
       "7.1000000000000005"
      ]
     },
     "execution_count": 23,
     "metadata": {},
     "output_type": "execute_result"
    }
   ],
   "source": [
    "X[:,height_i][X[:,intensity_i]>5].mean()"
   ]
  },
  {
   "cell_type": "markdown",
   "metadata": {},
   "source": [
    "**Compute the probability of class 2 if intensity>5**\n",
    "$$p = \\frac{\\#(intensity>5 \\land class2)}{\\#(intensity>5)}$$"
   ]
  },
  {
   "cell_type": "code",
   "execution_count": 33,
   "metadata": {},
   "outputs": [
    {
     "name": "stdout",
     "output_type": "stream",
     "text": [
      "p:  0.75\n"
     ]
    }
   ],
   "source": [
    "den = len(X[X[:,intensity_i]>5])\n",
    "#oppure (dato che True ha valore 1 basta sommare per ottenere quanti True ci sono)\n",
    "#den = X[X[:,intensity_i]>5].sum()\n",
    "\n",
    "condG5 = X[:,intensity_i]>5\n",
    "condC2 = labels == 2\n",
    "num = len(X[condG5 & condC2])\n",
    "#oppure\n",
    "#num = X[condG5 & condC2].sum()\n",
    "\n",
    "p = num/den\n",
    "print(\"p: \", p)"
   ]
  },
  {
   "cell_type": "markdown",
   "metadata": {},
   "source": [
    "**Print the height of the top 3 records with highest intensity:**"
   ]
  },
  {
   "cell_type": "code",
   "execution_count": 34,
   "metadata": {
    "scrolled": false
   },
   "outputs": [
    {
     "data": {
      "text/plain": [
       "array([[5.1, 3.5, 1.4, 0.2],\n",
       "       [4.3, 3. , 1.1, 0.1],\n",
       "       [5. , 3.4, 1.6, 0.4],\n",
       "       [5.1, 3.4, 1.5, 0.2],\n",
       "       [6.9, 3.1, 4.9, 1.5],\n",
       "       [6.7, 3.1, 4.4, 1.4],\n",
       "       [6. , 2.9, 4.5, 1.5],\n",
       "       [6.1, 3. , 4.6, 1.4],\n",
       "       [6.5, 3. , 5.8, 2.2],\n",
       "       [7.7, 3.8, 6.7, 2.2],\n",
       "       [7.4, 2.8, 6.1, 1.9],\n",
       "       [6.8, 3.2, 5.9, 2.3]])"
      ]
     },
     "execution_count": 34,
     "metadata": {},
     "output_type": "execute_result"
    }
   ],
   "source": [
    "X"
   ]
  },
  {
   "cell_type": "code",
   "execution_count": 42,
   "metadata": {},
   "outputs": [
    {
     "name": "stdout",
     "output_type": "stream",
     "text": [
      "[ 1  0  3  2  5  6  7  4  8 11 10  9]\n",
      "[11 10  9]\n",
      "[6.8 7.4 7.7]\n"
     ]
    }
   ],
   "source": [
    "#indici dei valori ordinati in modo crescente per colonna, sulla colonna intensity_i\n",
    "print(np.argsort(X,axis=0)[:,intensity_i])\n",
    "\n",
    "#prendiamo gli indici degli ultimi 3 valori (i 3 più grandi)\n",
    "print(np.argsort(X,axis=0)[:,intensity_i][-3:])\n",
    "\n",
    "#usiamo gli indici solo sulla colonna height_i\n",
    "print(X[np.argsort(X,axis=0)[:, intensity_i][-3:], height_i])"
   ]
  }
 ],
 "metadata": {
  "kernelspec": {
   "display_name": "Python [conda env:dslab]",
   "language": "python",
   "name": "conda-env-dslab-py"
  },
  "language_info": {
   "codemirror_mode": {
    "name": "ipython",
    "version": 3
   },
   "file_extension": ".py",
   "mimetype": "text/x-python",
   "name": "python",
   "nbconvert_exporter": "python",
   "pygments_lexer": "ipython3",
   "version": "3.9.13"
  }
 },
 "nbformat": 4,
 "nbformat_minor": 2
}
